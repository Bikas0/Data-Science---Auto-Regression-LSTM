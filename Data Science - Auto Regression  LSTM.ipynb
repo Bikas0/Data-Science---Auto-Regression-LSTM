{
  "nbformat": 4,
  "nbformat_minor": 0,
  "metadata": {
    "colab": {
      "name": "Salai Siv Brother.ipynb",
      "provenance": [],
      "collapsed_sections": []
    },
    "kernelspec": {
      "name": "python3",
      "display_name": "Python 3"
    },
    "language_info": {
      "name": "python"
    }
  },
  "cells": [
    {
      "cell_type": "code",
      "execution_count": 1,
      "metadata": {
        "id": "_2cytO__IqkY",
        "colab": {
          "base_uri": "https://localhost:8080/"
        },
        "outputId": "2dd2a366-9512-4cf8-f671-5a7f341fdd50"
      },
      "outputs": [
        {
          "output_type": "stream",
          "name": "stdout",
          "text": [
            "Drive already mounted at /content/drive; to attempt to forcibly remount, call drive.mount(\"/content/drive\", force_remount=True).\n"
          ]
        }
      ],
      "source": [
        "from google.colab import drive\n",
        "drive.mount(\"/content/drive\")"
      ]
    },
    {
      "cell_type": "markdown",
      "source": [
        "**Import Library**"
      ],
      "metadata": {
        "id": "VhLgSYMSJ3Fq"
      }
    },
    {
      "cell_type": "code",
      "source": [
        "!pip install statsmodels --upgrade"
      ],
      "metadata": {
        "colab": {
          "base_uri": "https://localhost:8080/"
        },
        "id": "OVeSNBTQEju2",
        "outputId": "50ee3b55-0348-4449-f0cf-8a1a99d77086"
      },
      "execution_count": 2,
      "outputs": [
        {
          "output_type": "stream",
          "name": "stdout",
          "text": [
            "Looking in indexes: https://pypi.org/simple, https://us-python.pkg.dev/colab-wheels/public/simple/\n",
            "Requirement already satisfied: statsmodels in /usr/local/lib/python3.7/dist-packages (0.10.2)\n",
            "Collecting statsmodels\n",
            "  Downloading statsmodels-0.13.2-cp37-cp37m-manylinux_2_17_x86_64.manylinux2014_x86_64.whl (9.8 MB)\n",
            "\u001b[K     |████████████████████████████████| 9.8 MB 8.5 MB/s \n",
            "\u001b[?25hRequirement already satisfied: scipy>=1.3 in /usr/local/lib/python3.7/dist-packages (from statsmodels) (1.7.3)\n",
            "Requirement already satisfied: pandas>=0.25 in /usr/local/lib/python3.7/dist-packages (from statsmodels) (1.3.5)\n",
            "Requirement already satisfied: numpy>=1.17 in /usr/local/lib/python3.7/dist-packages (from statsmodels) (1.21.6)\n",
            "Requirement already satisfied: packaging>=21.3 in /usr/local/lib/python3.7/dist-packages (from statsmodels) (21.3)\n",
            "Requirement already satisfied: patsy>=0.5.2 in /usr/local/lib/python3.7/dist-packages (from statsmodels) (0.5.2)\n",
            "Requirement already satisfied: pyparsing!=3.0.5,>=2.0.2 in /usr/local/lib/python3.7/dist-packages (from packaging>=21.3->statsmodels) (3.0.9)\n",
            "Requirement already satisfied: python-dateutil>=2.7.3 in /usr/local/lib/python3.7/dist-packages (from pandas>=0.25->statsmodels) (2.8.2)\n",
            "Requirement already satisfied: pytz>=2017.3 in /usr/local/lib/python3.7/dist-packages (from pandas>=0.25->statsmodels) (2022.1)\n",
            "Requirement already satisfied: six in /usr/local/lib/python3.7/dist-packages (from patsy>=0.5.2->statsmodels) (1.15.0)\n",
            "Installing collected packages: statsmodels\n",
            "  Attempting uninstall: statsmodels\n",
            "    Found existing installation: statsmodels 0.10.2\n",
            "    Uninstalling statsmodels-0.10.2:\n",
            "      Successfully uninstalled statsmodels-0.10.2\n",
            "Successfully installed statsmodels-0.13.2\n"
          ]
        }
      ]
    },
    {
      "cell_type": "code",
      "source": [
        "import numpy as np\n",
        "import pandas as pd\n",
        "from math import sqrt\n",
        "import matplotlib.pyplot as plt\n",
        "from statsmodels.tsa.ar_model import AutoReg\n",
        "from statsmodels.tsa.stattools import adfuller\n",
        "from sklearn.metrics import mean_squared_error"
      ],
      "metadata": {
        "id": "Qg-x6XCBJK_g"
      },
      "execution_count": 3,
      "outputs": []
    },
    {
      "cell_type": "markdown",
      "source": [
        "**Read Dataset**"
      ],
      "metadata": {
        "id": "GisL3NW3KIv0"
      }
    },
    {
      "cell_type": "code",
      "source": [
        "dataset = pd.read_excel(\"/content/drive/MyDrive/Salai/GENESID DATA.xlsx\")\n",
        "dataset.head()"
      ],
      "metadata": {
        "colab": {
          "base_uri": "https://localhost:8080/",
          "height": 206
        },
        "id": "RTyWPhfaJziT",
        "outputId": "e382cb28-a979-4662-df0a-e464f069957a"
      },
      "execution_count": 4,
      "outputs": [
        {
          "output_type": "execute_result",
          "data": {
            "text/plain": [
              "    CSIID   AppName  YEAR  MONTH  DAY  Incidents  Changes\n",
              "0  163186  GENESIS-  2018      1    1         34      NaN\n",
              "1  163186  GENESIS-  2018      1    2         92      NaN\n",
              "2  163186  GENESIS-  2018      1    3        126      NaN\n",
              "3  163186  GENESIS-  2018      1    4        171      NaN\n",
              "4  163186  GENESIS-  2018      1    5        169      NaN"
            ],
            "text/html": [
              "\n",
              "  <div id=\"df-89e3508d-cbb4-4037-bc17-6469f0b772b5\">\n",
              "    <div class=\"colab-df-container\">\n",
              "      <div>\n",
              "<style scoped>\n",
              "    .dataframe tbody tr th:only-of-type {\n",
              "        vertical-align: middle;\n",
              "    }\n",
              "\n",
              "    .dataframe tbody tr th {\n",
              "        vertical-align: top;\n",
              "    }\n",
              "\n",
              "    .dataframe thead th {\n",
              "        text-align: right;\n",
              "    }\n",
              "</style>\n",
              "<table border=\"1\" class=\"dataframe\">\n",
              "  <thead>\n",
              "    <tr style=\"text-align: right;\">\n",
              "      <th></th>\n",
              "      <th>CSIID</th>\n",
              "      <th>AppName</th>\n",
              "      <th>YEAR</th>\n",
              "      <th>MONTH</th>\n",
              "      <th>DAY</th>\n",
              "      <th>Incidents</th>\n",
              "      <th>Changes</th>\n",
              "    </tr>\n",
              "  </thead>\n",
              "  <tbody>\n",
              "    <tr>\n",
              "      <th>0</th>\n",
              "      <td>163186</td>\n",
              "      <td>GENESIS-</td>\n",
              "      <td>2018</td>\n",
              "      <td>1</td>\n",
              "      <td>1</td>\n",
              "      <td>34</td>\n",
              "      <td>NaN</td>\n",
              "    </tr>\n",
              "    <tr>\n",
              "      <th>1</th>\n",
              "      <td>163186</td>\n",
              "      <td>GENESIS-</td>\n",
              "      <td>2018</td>\n",
              "      <td>1</td>\n",
              "      <td>2</td>\n",
              "      <td>92</td>\n",
              "      <td>NaN</td>\n",
              "    </tr>\n",
              "    <tr>\n",
              "      <th>2</th>\n",
              "      <td>163186</td>\n",
              "      <td>GENESIS-</td>\n",
              "      <td>2018</td>\n",
              "      <td>1</td>\n",
              "      <td>3</td>\n",
              "      <td>126</td>\n",
              "      <td>NaN</td>\n",
              "    </tr>\n",
              "    <tr>\n",
              "      <th>3</th>\n",
              "      <td>163186</td>\n",
              "      <td>GENESIS-</td>\n",
              "      <td>2018</td>\n",
              "      <td>1</td>\n",
              "      <td>4</td>\n",
              "      <td>171</td>\n",
              "      <td>NaN</td>\n",
              "    </tr>\n",
              "    <tr>\n",
              "      <th>4</th>\n",
              "      <td>163186</td>\n",
              "      <td>GENESIS-</td>\n",
              "      <td>2018</td>\n",
              "      <td>1</td>\n",
              "      <td>5</td>\n",
              "      <td>169</td>\n",
              "      <td>NaN</td>\n",
              "    </tr>\n",
              "  </tbody>\n",
              "</table>\n",
              "</div>\n",
              "      <button class=\"colab-df-convert\" onclick=\"convertToInteractive('df-89e3508d-cbb4-4037-bc17-6469f0b772b5')\"\n",
              "              title=\"Convert this dataframe to an interactive table.\"\n",
              "              style=\"display:none;\">\n",
              "        \n",
              "  <svg xmlns=\"http://www.w3.org/2000/svg\" height=\"24px\"viewBox=\"0 0 24 24\"\n",
              "       width=\"24px\">\n",
              "    <path d=\"M0 0h24v24H0V0z\" fill=\"none\"/>\n",
              "    <path d=\"M18.56 5.44l.94 2.06.94-2.06 2.06-.94-2.06-.94-.94-2.06-.94 2.06-2.06.94zm-11 1L8.5 8.5l.94-2.06 2.06-.94-2.06-.94L8.5 2.5l-.94 2.06-2.06.94zm10 10l.94 2.06.94-2.06 2.06-.94-2.06-.94-.94-2.06-.94 2.06-2.06.94z\"/><path d=\"M17.41 7.96l-1.37-1.37c-.4-.4-.92-.59-1.43-.59-.52 0-1.04.2-1.43.59L10.3 9.45l-7.72 7.72c-.78.78-.78 2.05 0 2.83L4 21.41c.39.39.9.59 1.41.59.51 0 1.02-.2 1.41-.59l7.78-7.78 2.81-2.81c.8-.78.8-2.07 0-2.86zM5.41 20L4 18.59l7.72-7.72 1.47 1.35L5.41 20z\"/>\n",
              "  </svg>\n",
              "      </button>\n",
              "      \n",
              "  <style>\n",
              "    .colab-df-container {\n",
              "      display:flex;\n",
              "      flex-wrap:wrap;\n",
              "      gap: 12px;\n",
              "    }\n",
              "\n",
              "    .colab-df-convert {\n",
              "      background-color: #E8F0FE;\n",
              "      border: none;\n",
              "      border-radius: 50%;\n",
              "      cursor: pointer;\n",
              "      display: none;\n",
              "      fill: #1967D2;\n",
              "      height: 32px;\n",
              "      padding: 0 0 0 0;\n",
              "      width: 32px;\n",
              "    }\n",
              "\n",
              "    .colab-df-convert:hover {\n",
              "      background-color: #E2EBFA;\n",
              "      box-shadow: 0px 1px 2px rgba(60, 64, 67, 0.3), 0px 1px 3px 1px rgba(60, 64, 67, 0.15);\n",
              "      fill: #174EA6;\n",
              "    }\n",
              "\n",
              "    [theme=dark] .colab-df-convert {\n",
              "      background-color: #3B4455;\n",
              "      fill: #D2E3FC;\n",
              "    }\n",
              "\n",
              "    [theme=dark] .colab-df-convert:hover {\n",
              "      background-color: #434B5C;\n",
              "      box-shadow: 0px 1px 3px 1px rgba(0, 0, 0, 0.15);\n",
              "      filter: drop-shadow(0px 1px 2px rgba(0, 0, 0, 0.3));\n",
              "      fill: #FFFFFF;\n",
              "    }\n",
              "  </style>\n",
              "\n",
              "      <script>\n",
              "        const buttonEl =\n",
              "          document.querySelector('#df-89e3508d-cbb4-4037-bc17-6469f0b772b5 button.colab-df-convert');\n",
              "        buttonEl.style.display =\n",
              "          google.colab.kernel.accessAllowed ? 'block' : 'none';\n",
              "\n",
              "        async function convertToInteractive(key) {\n",
              "          const element = document.querySelector('#df-89e3508d-cbb4-4037-bc17-6469f0b772b5');\n",
              "          const dataTable =\n",
              "            await google.colab.kernel.invokeFunction('convertToInteractive',\n",
              "                                                     [key], {});\n",
              "          if (!dataTable) return;\n",
              "\n",
              "          const docLinkHtml = 'Like what you see? Visit the ' +\n",
              "            '<a target=\"_blank\" href=https://colab.research.google.com/notebooks/data_table.ipynb>data table notebook</a>'\n",
              "            + ' to learn more about interactive tables.';\n",
              "          element.innerHTML = '';\n",
              "          dataTable['output_type'] = 'display_data';\n",
              "          await google.colab.output.renderOutput(dataTable, element);\n",
              "          const docLink = document.createElement('div');\n",
              "          docLink.innerHTML = docLinkHtml;\n",
              "          element.appendChild(docLink);\n",
              "        }\n",
              "      </script>\n",
              "    </div>\n",
              "  </div>\n",
              "  "
            ]
          },
          "metadata": {},
          "execution_count": 4
        }
      ]
    },
    {
      "cell_type": "code",
      "source": [
        "dataset.shape"
      ],
      "metadata": {
        "colab": {
          "base_uri": "https://localhost:8080/"
        },
        "id": "T81Qw58DKGst",
        "outputId": "5594cda5-fb45-412e-e5ac-01d70edbb321"
      },
      "execution_count": 5,
      "outputs": [
        {
          "output_type": "execute_result",
          "data": {
            "text/plain": [
              "(1460, 7)"
            ]
          },
          "metadata": {},
          "execution_count": 5
        }
      ]
    },
    {
      "cell_type": "code",
      "source": [
        "# Number of rows\n",
        "dataset.shape[0] "
      ],
      "metadata": {
        "colab": {
          "base_uri": "https://localhost:8080/"
        },
        "id": "TNmOEIlZKcV7",
        "outputId": "4390ed16-210a-45a3-97fe-29a53ff0cfd9"
      },
      "execution_count": 6,
      "outputs": [
        {
          "output_type": "execute_result",
          "data": {
            "text/plain": [
              "1460"
            ]
          },
          "metadata": {},
          "execution_count": 6
        }
      ]
    },
    {
      "cell_type": "code",
      "source": [
        "# Number of Columns\n",
        "dataset.shape[1]"
      ],
      "metadata": {
        "colab": {
          "base_uri": "https://localhost:8080/"
        },
        "id": "6Qk1jiOMKgp8",
        "outputId": "017faf38-e988-498b-9091-f1c53d4cc4ca"
      },
      "execution_count": 7,
      "outputs": [
        {
          "output_type": "execute_result",
          "data": {
            "text/plain": [
              "7"
            ]
          },
          "metadata": {},
          "execution_count": 7
        }
      ]
    },
    {
      "cell_type": "markdown",
      "source": [
        "**Combine YEAR, MONTH & DAY**"
      ],
      "metadata": {
        "id": "Vo8kkMdjKtTn"
      }
    },
    {
      "cell_type": "code",
      "source": [
        "dataset[\"DATE\"] = pd.to_datetime(dataset[[\"YEAR\", \"MONTH\", \"DAY\"]])\n",
        "dataset.head()"
      ],
      "metadata": {
        "colab": {
          "base_uri": "https://localhost:8080/",
          "height": 206
        },
        "id": "qDe9vxQsKq0_",
        "outputId": "c25f7d1e-0cbe-482f-b0bc-32e66f03f93b"
      },
      "execution_count": 8,
      "outputs": [
        {
          "output_type": "execute_result",
          "data": {
            "text/plain": [
              "    CSIID   AppName  YEAR  MONTH  DAY  Incidents  Changes       DATE\n",
              "0  163186  GENESIS-  2018      1    1         34      NaN 2018-01-01\n",
              "1  163186  GENESIS-  2018      1    2         92      NaN 2018-01-02\n",
              "2  163186  GENESIS-  2018      1    3        126      NaN 2018-01-03\n",
              "3  163186  GENESIS-  2018      1    4        171      NaN 2018-01-04\n",
              "4  163186  GENESIS-  2018      1    5        169      NaN 2018-01-05"
            ],
            "text/html": [
              "\n",
              "  <div id=\"df-805348ed-b67d-421e-b485-57e0fe8199e1\">\n",
              "    <div class=\"colab-df-container\">\n",
              "      <div>\n",
              "<style scoped>\n",
              "    .dataframe tbody tr th:only-of-type {\n",
              "        vertical-align: middle;\n",
              "    }\n",
              "\n",
              "    .dataframe tbody tr th {\n",
              "        vertical-align: top;\n",
              "    }\n",
              "\n",
              "    .dataframe thead th {\n",
              "        text-align: right;\n",
              "    }\n",
              "</style>\n",
              "<table border=\"1\" class=\"dataframe\">\n",
              "  <thead>\n",
              "    <tr style=\"text-align: right;\">\n",
              "      <th></th>\n",
              "      <th>CSIID</th>\n",
              "      <th>AppName</th>\n",
              "      <th>YEAR</th>\n",
              "      <th>MONTH</th>\n",
              "      <th>DAY</th>\n",
              "      <th>Incidents</th>\n",
              "      <th>Changes</th>\n",
              "      <th>DATE</th>\n",
              "    </tr>\n",
              "  </thead>\n",
              "  <tbody>\n",
              "    <tr>\n",
              "      <th>0</th>\n",
              "      <td>163186</td>\n",
              "      <td>GENESIS-</td>\n",
              "      <td>2018</td>\n",
              "      <td>1</td>\n",
              "      <td>1</td>\n",
              "      <td>34</td>\n",
              "      <td>NaN</td>\n",
              "      <td>2018-01-01</td>\n",
              "    </tr>\n",
              "    <tr>\n",
              "      <th>1</th>\n",
              "      <td>163186</td>\n",
              "      <td>GENESIS-</td>\n",
              "      <td>2018</td>\n",
              "      <td>1</td>\n",
              "      <td>2</td>\n",
              "      <td>92</td>\n",
              "      <td>NaN</td>\n",
              "      <td>2018-01-02</td>\n",
              "    </tr>\n",
              "    <tr>\n",
              "      <th>2</th>\n",
              "      <td>163186</td>\n",
              "      <td>GENESIS-</td>\n",
              "      <td>2018</td>\n",
              "      <td>1</td>\n",
              "      <td>3</td>\n",
              "      <td>126</td>\n",
              "      <td>NaN</td>\n",
              "      <td>2018-01-03</td>\n",
              "    </tr>\n",
              "    <tr>\n",
              "      <th>3</th>\n",
              "      <td>163186</td>\n",
              "      <td>GENESIS-</td>\n",
              "      <td>2018</td>\n",
              "      <td>1</td>\n",
              "      <td>4</td>\n",
              "      <td>171</td>\n",
              "      <td>NaN</td>\n",
              "      <td>2018-01-04</td>\n",
              "    </tr>\n",
              "    <tr>\n",
              "      <th>4</th>\n",
              "      <td>163186</td>\n",
              "      <td>GENESIS-</td>\n",
              "      <td>2018</td>\n",
              "      <td>1</td>\n",
              "      <td>5</td>\n",
              "      <td>169</td>\n",
              "      <td>NaN</td>\n",
              "      <td>2018-01-05</td>\n",
              "    </tr>\n",
              "  </tbody>\n",
              "</table>\n",
              "</div>\n",
              "      <button class=\"colab-df-convert\" onclick=\"convertToInteractive('df-805348ed-b67d-421e-b485-57e0fe8199e1')\"\n",
              "              title=\"Convert this dataframe to an interactive table.\"\n",
              "              style=\"display:none;\">\n",
              "        \n",
              "  <svg xmlns=\"http://www.w3.org/2000/svg\" height=\"24px\"viewBox=\"0 0 24 24\"\n",
              "       width=\"24px\">\n",
              "    <path d=\"M0 0h24v24H0V0z\" fill=\"none\"/>\n",
              "    <path d=\"M18.56 5.44l.94 2.06.94-2.06 2.06-.94-2.06-.94-.94-2.06-.94 2.06-2.06.94zm-11 1L8.5 8.5l.94-2.06 2.06-.94-2.06-.94L8.5 2.5l-.94 2.06-2.06.94zm10 10l.94 2.06.94-2.06 2.06-.94-2.06-.94-.94-2.06-.94 2.06-2.06.94z\"/><path d=\"M17.41 7.96l-1.37-1.37c-.4-.4-.92-.59-1.43-.59-.52 0-1.04.2-1.43.59L10.3 9.45l-7.72 7.72c-.78.78-.78 2.05 0 2.83L4 21.41c.39.39.9.59 1.41.59.51 0 1.02-.2 1.41-.59l7.78-7.78 2.81-2.81c.8-.78.8-2.07 0-2.86zM5.41 20L4 18.59l7.72-7.72 1.47 1.35L5.41 20z\"/>\n",
              "  </svg>\n",
              "      </button>\n",
              "      \n",
              "  <style>\n",
              "    .colab-df-container {\n",
              "      display:flex;\n",
              "      flex-wrap:wrap;\n",
              "      gap: 12px;\n",
              "    }\n",
              "\n",
              "    .colab-df-convert {\n",
              "      background-color: #E8F0FE;\n",
              "      border: none;\n",
              "      border-radius: 50%;\n",
              "      cursor: pointer;\n",
              "      display: none;\n",
              "      fill: #1967D2;\n",
              "      height: 32px;\n",
              "      padding: 0 0 0 0;\n",
              "      width: 32px;\n",
              "    }\n",
              "\n",
              "    .colab-df-convert:hover {\n",
              "      background-color: #E2EBFA;\n",
              "      box-shadow: 0px 1px 2px rgba(60, 64, 67, 0.3), 0px 1px 3px 1px rgba(60, 64, 67, 0.15);\n",
              "      fill: #174EA6;\n",
              "    }\n",
              "\n",
              "    [theme=dark] .colab-df-convert {\n",
              "      background-color: #3B4455;\n",
              "      fill: #D2E3FC;\n",
              "    }\n",
              "\n",
              "    [theme=dark] .colab-df-convert:hover {\n",
              "      background-color: #434B5C;\n",
              "      box-shadow: 0px 1px 3px 1px rgba(0, 0, 0, 0.15);\n",
              "      filter: drop-shadow(0px 1px 2px rgba(0, 0, 0, 0.3));\n",
              "      fill: #FFFFFF;\n",
              "    }\n",
              "  </style>\n",
              "\n",
              "      <script>\n",
              "        const buttonEl =\n",
              "          document.querySelector('#df-805348ed-b67d-421e-b485-57e0fe8199e1 button.colab-df-convert');\n",
              "        buttonEl.style.display =\n",
              "          google.colab.kernel.accessAllowed ? 'block' : 'none';\n",
              "\n",
              "        async function convertToInteractive(key) {\n",
              "          const element = document.querySelector('#df-805348ed-b67d-421e-b485-57e0fe8199e1');\n",
              "          const dataTable =\n",
              "            await google.colab.kernel.invokeFunction('convertToInteractive',\n",
              "                                                     [key], {});\n",
              "          if (!dataTable) return;\n",
              "\n",
              "          const docLinkHtml = 'Like what you see? Visit the ' +\n",
              "            '<a target=\"_blank\" href=https://colab.research.google.com/notebooks/data_table.ipynb>data table notebook</a>'\n",
              "            + ' to learn more about interactive tables.';\n",
              "          element.innerHTML = '';\n",
              "          dataTable['output_type'] = 'display_data';\n",
              "          await google.colab.output.renderOutput(dataTable, element);\n",
              "          const docLink = document.createElement('div');\n",
              "          docLink.innerHTML = docLinkHtml;\n",
              "          element.appendChild(docLink);\n",
              "        }\n",
              "      </script>\n",
              "    </div>\n",
              "  </div>\n",
              "  "
            ]
          },
          "metadata": {},
          "execution_count": 8
        }
      ]
    },
    {
      "cell_type": "code",
      "source": [
        "dataset.tail()"
      ],
      "metadata": {
        "colab": {
          "base_uri": "https://localhost:8080/",
          "height": 206
        },
        "id": "pGRA7KyfNXc5",
        "outputId": "e04c9473-4861-4714-e5dc-650cd7967454"
      },
      "execution_count": 9,
      "outputs": [
        {
          "output_type": "execute_result",
          "data": {
            "text/plain": [
              "       CSIID   AppName  YEAR  MONTH  DAY  Incidents  Changes       DATE\n",
              "1455  163186  GENESIS-  2021     12   26         25      NaN 2021-12-26\n",
              "1456  163186  GENESIS-  2021     12   27         89      NaN 2021-12-27\n",
              "1457  163186  GENESIS-  2021     12   28         76      2.0 2021-12-28\n",
              "1458  163186  GENESIS-  2021     12   29         58      NaN 2021-12-29\n",
              "1459  163186  GENESIS-  2021     12   30         62      NaN 2021-12-30"
            ],
            "text/html": [
              "\n",
              "  <div id=\"df-f7f45e88-da30-4904-8273-4748c2bb9c35\">\n",
              "    <div class=\"colab-df-container\">\n",
              "      <div>\n",
              "<style scoped>\n",
              "    .dataframe tbody tr th:only-of-type {\n",
              "        vertical-align: middle;\n",
              "    }\n",
              "\n",
              "    .dataframe tbody tr th {\n",
              "        vertical-align: top;\n",
              "    }\n",
              "\n",
              "    .dataframe thead th {\n",
              "        text-align: right;\n",
              "    }\n",
              "</style>\n",
              "<table border=\"1\" class=\"dataframe\">\n",
              "  <thead>\n",
              "    <tr style=\"text-align: right;\">\n",
              "      <th></th>\n",
              "      <th>CSIID</th>\n",
              "      <th>AppName</th>\n",
              "      <th>YEAR</th>\n",
              "      <th>MONTH</th>\n",
              "      <th>DAY</th>\n",
              "      <th>Incidents</th>\n",
              "      <th>Changes</th>\n",
              "      <th>DATE</th>\n",
              "    </tr>\n",
              "  </thead>\n",
              "  <tbody>\n",
              "    <tr>\n",
              "      <th>1455</th>\n",
              "      <td>163186</td>\n",
              "      <td>GENESIS-</td>\n",
              "      <td>2021</td>\n",
              "      <td>12</td>\n",
              "      <td>26</td>\n",
              "      <td>25</td>\n",
              "      <td>NaN</td>\n",
              "      <td>2021-12-26</td>\n",
              "    </tr>\n",
              "    <tr>\n",
              "      <th>1456</th>\n",
              "      <td>163186</td>\n",
              "      <td>GENESIS-</td>\n",
              "      <td>2021</td>\n",
              "      <td>12</td>\n",
              "      <td>27</td>\n",
              "      <td>89</td>\n",
              "      <td>NaN</td>\n",
              "      <td>2021-12-27</td>\n",
              "    </tr>\n",
              "    <tr>\n",
              "      <th>1457</th>\n",
              "      <td>163186</td>\n",
              "      <td>GENESIS-</td>\n",
              "      <td>2021</td>\n",
              "      <td>12</td>\n",
              "      <td>28</td>\n",
              "      <td>76</td>\n",
              "      <td>2.0</td>\n",
              "      <td>2021-12-28</td>\n",
              "    </tr>\n",
              "    <tr>\n",
              "      <th>1458</th>\n",
              "      <td>163186</td>\n",
              "      <td>GENESIS-</td>\n",
              "      <td>2021</td>\n",
              "      <td>12</td>\n",
              "      <td>29</td>\n",
              "      <td>58</td>\n",
              "      <td>NaN</td>\n",
              "      <td>2021-12-29</td>\n",
              "    </tr>\n",
              "    <tr>\n",
              "      <th>1459</th>\n",
              "      <td>163186</td>\n",
              "      <td>GENESIS-</td>\n",
              "      <td>2021</td>\n",
              "      <td>12</td>\n",
              "      <td>30</td>\n",
              "      <td>62</td>\n",
              "      <td>NaN</td>\n",
              "      <td>2021-12-30</td>\n",
              "    </tr>\n",
              "  </tbody>\n",
              "</table>\n",
              "</div>\n",
              "      <button class=\"colab-df-convert\" onclick=\"convertToInteractive('df-f7f45e88-da30-4904-8273-4748c2bb9c35')\"\n",
              "              title=\"Convert this dataframe to an interactive table.\"\n",
              "              style=\"display:none;\">\n",
              "        \n",
              "  <svg xmlns=\"http://www.w3.org/2000/svg\" height=\"24px\"viewBox=\"0 0 24 24\"\n",
              "       width=\"24px\">\n",
              "    <path d=\"M0 0h24v24H0V0z\" fill=\"none\"/>\n",
              "    <path d=\"M18.56 5.44l.94 2.06.94-2.06 2.06-.94-2.06-.94-.94-2.06-.94 2.06-2.06.94zm-11 1L8.5 8.5l.94-2.06 2.06-.94-2.06-.94L8.5 2.5l-.94 2.06-2.06.94zm10 10l.94 2.06.94-2.06 2.06-.94-2.06-.94-.94-2.06-.94 2.06-2.06.94z\"/><path d=\"M17.41 7.96l-1.37-1.37c-.4-.4-.92-.59-1.43-.59-.52 0-1.04.2-1.43.59L10.3 9.45l-7.72 7.72c-.78.78-.78 2.05 0 2.83L4 21.41c.39.39.9.59 1.41.59.51 0 1.02-.2 1.41-.59l7.78-7.78 2.81-2.81c.8-.78.8-2.07 0-2.86zM5.41 20L4 18.59l7.72-7.72 1.47 1.35L5.41 20z\"/>\n",
              "  </svg>\n",
              "      </button>\n",
              "      \n",
              "  <style>\n",
              "    .colab-df-container {\n",
              "      display:flex;\n",
              "      flex-wrap:wrap;\n",
              "      gap: 12px;\n",
              "    }\n",
              "\n",
              "    .colab-df-convert {\n",
              "      background-color: #E8F0FE;\n",
              "      border: none;\n",
              "      border-radius: 50%;\n",
              "      cursor: pointer;\n",
              "      display: none;\n",
              "      fill: #1967D2;\n",
              "      height: 32px;\n",
              "      padding: 0 0 0 0;\n",
              "      width: 32px;\n",
              "    }\n",
              "\n",
              "    .colab-df-convert:hover {\n",
              "      background-color: #E2EBFA;\n",
              "      box-shadow: 0px 1px 2px rgba(60, 64, 67, 0.3), 0px 1px 3px 1px rgba(60, 64, 67, 0.15);\n",
              "      fill: #174EA6;\n",
              "    }\n",
              "\n",
              "    [theme=dark] .colab-df-convert {\n",
              "      background-color: #3B4455;\n",
              "      fill: #D2E3FC;\n",
              "    }\n",
              "\n",
              "    [theme=dark] .colab-df-convert:hover {\n",
              "      background-color: #434B5C;\n",
              "      box-shadow: 0px 1px 3px 1px rgba(0, 0, 0, 0.15);\n",
              "      filter: drop-shadow(0px 1px 2px rgba(0, 0, 0, 0.3));\n",
              "      fill: #FFFFFF;\n",
              "    }\n",
              "  </style>\n",
              "\n",
              "      <script>\n",
              "        const buttonEl =\n",
              "          document.querySelector('#df-f7f45e88-da30-4904-8273-4748c2bb9c35 button.colab-df-convert');\n",
              "        buttonEl.style.display =\n",
              "          google.colab.kernel.accessAllowed ? 'block' : 'none';\n",
              "\n",
              "        async function convertToInteractive(key) {\n",
              "          const element = document.querySelector('#df-f7f45e88-da30-4904-8273-4748c2bb9c35');\n",
              "          const dataTable =\n",
              "            await google.colab.kernel.invokeFunction('convertToInteractive',\n",
              "                                                     [key], {});\n",
              "          if (!dataTable) return;\n",
              "\n",
              "          const docLinkHtml = 'Like what you see? Visit the ' +\n",
              "            '<a target=\"_blank\" href=https://colab.research.google.com/notebooks/data_table.ipynb>data table notebook</a>'\n",
              "            + ' to learn more about interactive tables.';\n",
              "          element.innerHTML = '';\n",
              "          dataTable['output_type'] = 'display_data';\n",
              "          await google.colab.output.renderOutput(dataTable, element);\n",
              "          const docLink = document.createElement('div');\n",
              "          docLink.innerHTML = docLinkHtml;\n",
              "          element.appendChild(docLink);\n",
              "        }\n",
              "      </script>\n",
              "    </div>\n",
              "  </div>\n",
              "  "
            ]
          },
          "metadata": {},
          "execution_count": 9
        }
      ]
    },
    {
      "cell_type": "code",
      "source": [
        "dataset.info()"
      ],
      "metadata": {
        "colab": {
          "base_uri": "https://localhost:8080/"
        },
        "id": "-yamiVkkLLIZ",
        "outputId": "83d3bf46-851e-439b-fe0e-9e177bf2e245"
      },
      "execution_count": 10,
      "outputs": [
        {
          "output_type": "stream",
          "name": "stdout",
          "text": [
            "<class 'pandas.core.frame.DataFrame'>\n",
            "RangeIndex: 1460 entries, 0 to 1459\n",
            "Data columns (total 8 columns):\n",
            " #   Column     Non-Null Count  Dtype         \n",
            "---  ------     --------------  -----         \n",
            " 0   CSIID      1460 non-null   int64         \n",
            " 1   AppName    1460 non-null   object        \n",
            " 2   YEAR       1460 non-null   int64         \n",
            " 3   MONTH      1460 non-null   int64         \n",
            " 4   DAY        1460 non-null   int64         \n",
            " 5   Incidents  1460 non-null   int64         \n",
            " 6   Changes    1083 non-null   float64       \n",
            " 7   DATE       1460 non-null   datetime64[ns]\n",
            "dtypes: datetime64[ns](1), float64(1), int64(5), object(1)\n",
            "memory usage: 91.4+ KB\n"
          ]
        }
      ]
    },
    {
      "cell_type": "code",
      "source": [
        "dataset.set_index(\"DATE\", inplace = True)\n",
        "dataset.head()"
      ],
      "metadata": {
        "colab": {
          "base_uri": "https://localhost:8080/",
          "height": 238
        },
        "id": "_YA1hKx07IRg",
        "outputId": "1c1707dd-f2b3-4135-c68c-ac2b190bf4d4"
      },
      "execution_count": 11,
      "outputs": [
        {
          "output_type": "execute_result",
          "data": {
            "text/plain": [
              "             CSIID   AppName  YEAR  MONTH  DAY  Incidents  Changes\n",
              "DATE                                                              \n",
              "2018-01-01  163186  GENESIS-  2018      1    1         34      NaN\n",
              "2018-01-02  163186  GENESIS-  2018      1    2         92      NaN\n",
              "2018-01-03  163186  GENESIS-  2018      1    3        126      NaN\n",
              "2018-01-04  163186  GENESIS-  2018      1    4        171      NaN\n",
              "2018-01-05  163186  GENESIS-  2018      1    5        169      NaN"
            ],
            "text/html": [
              "\n",
              "  <div id=\"df-16542706-7cba-4f39-8210-c9e9c6e83d0c\">\n",
              "    <div class=\"colab-df-container\">\n",
              "      <div>\n",
              "<style scoped>\n",
              "    .dataframe tbody tr th:only-of-type {\n",
              "        vertical-align: middle;\n",
              "    }\n",
              "\n",
              "    .dataframe tbody tr th {\n",
              "        vertical-align: top;\n",
              "    }\n",
              "\n",
              "    .dataframe thead th {\n",
              "        text-align: right;\n",
              "    }\n",
              "</style>\n",
              "<table border=\"1\" class=\"dataframe\">\n",
              "  <thead>\n",
              "    <tr style=\"text-align: right;\">\n",
              "      <th></th>\n",
              "      <th>CSIID</th>\n",
              "      <th>AppName</th>\n",
              "      <th>YEAR</th>\n",
              "      <th>MONTH</th>\n",
              "      <th>DAY</th>\n",
              "      <th>Incidents</th>\n",
              "      <th>Changes</th>\n",
              "    </tr>\n",
              "    <tr>\n",
              "      <th>DATE</th>\n",
              "      <th></th>\n",
              "      <th></th>\n",
              "      <th></th>\n",
              "      <th></th>\n",
              "      <th></th>\n",
              "      <th></th>\n",
              "      <th></th>\n",
              "    </tr>\n",
              "  </thead>\n",
              "  <tbody>\n",
              "    <tr>\n",
              "      <th>2018-01-01</th>\n",
              "      <td>163186</td>\n",
              "      <td>GENESIS-</td>\n",
              "      <td>2018</td>\n",
              "      <td>1</td>\n",
              "      <td>1</td>\n",
              "      <td>34</td>\n",
              "      <td>NaN</td>\n",
              "    </tr>\n",
              "    <tr>\n",
              "      <th>2018-01-02</th>\n",
              "      <td>163186</td>\n",
              "      <td>GENESIS-</td>\n",
              "      <td>2018</td>\n",
              "      <td>1</td>\n",
              "      <td>2</td>\n",
              "      <td>92</td>\n",
              "      <td>NaN</td>\n",
              "    </tr>\n",
              "    <tr>\n",
              "      <th>2018-01-03</th>\n",
              "      <td>163186</td>\n",
              "      <td>GENESIS-</td>\n",
              "      <td>2018</td>\n",
              "      <td>1</td>\n",
              "      <td>3</td>\n",
              "      <td>126</td>\n",
              "      <td>NaN</td>\n",
              "    </tr>\n",
              "    <tr>\n",
              "      <th>2018-01-04</th>\n",
              "      <td>163186</td>\n",
              "      <td>GENESIS-</td>\n",
              "      <td>2018</td>\n",
              "      <td>1</td>\n",
              "      <td>4</td>\n",
              "      <td>171</td>\n",
              "      <td>NaN</td>\n",
              "    </tr>\n",
              "    <tr>\n",
              "      <th>2018-01-05</th>\n",
              "      <td>163186</td>\n",
              "      <td>GENESIS-</td>\n",
              "      <td>2018</td>\n",
              "      <td>1</td>\n",
              "      <td>5</td>\n",
              "      <td>169</td>\n",
              "      <td>NaN</td>\n",
              "    </tr>\n",
              "  </tbody>\n",
              "</table>\n",
              "</div>\n",
              "      <button class=\"colab-df-convert\" onclick=\"convertToInteractive('df-16542706-7cba-4f39-8210-c9e9c6e83d0c')\"\n",
              "              title=\"Convert this dataframe to an interactive table.\"\n",
              "              style=\"display:none;\">\n",
              "        \n",
              "  <svg xmlns=\"http://www.w3.org/2000/svg\" height=\"24px\"viewBox=\"0 0 24 24\"\n",
              "       width=\"24px\">\n",
              "    <path d=\"M0 0h24v24H0V0z\" fill=\"none\"/>\n",
              "    <path d=\"M18.56 5.44l.94 2.06.94-2.06 2.06-.94-2.06-.94-.94-2.06-.94 2.06-2.06.94zm-11 1L8.5 8.5l.94-2.06 2.06-.94-2.06-.94L8.5 2.5l-.94 2.06-2.06.94zm10 10l.94 2.06.94-2.06 2.06-.94-2.06-.94-.94-2.06-.94 2.06-2.06.94z\"/><path d=\"M17.41 7.96l-1.37-1.37c-.4-.4-.92-.59-1.43-.59-.52 0-1.04.2-1.43.59L10.3 9.45l-7.72 7.72c-.78.78-.78 2.05 0 2.83L4 21.41c.39.39.9.59 1.41.59.51 0 1.02-.2 1.41-.59l7.78-7.78 2.81-2.81c.8-.78.8-2.07 0-2.86zM5.41 20L4 18.59l7.72-7.72 1.47 1.35L5.41 20z\"/>\n",
              "  </svg>\n",
              "      </button>\n",
              "      \n",
              "  <style>\n",
              "    .colab-df-container {\n",
              "      display:flex;\n",
              "      flex-wrap:wrap;\n",
              "      gap: 12px;\n",
              "    }\n",
              "\n",
              "    .colab-df-convert {\n",
              "      background-color: #E8F0FE;\n",
              "      border: none;\n",
              "      border-radius: 50%;\n",
              "      cursor: pointer;\n",
              "      display: none;\n",
              "      fill: #1967D2;\n",
              "      height: 32px;\n",
              "      padding: 0 0 0 0;\n",
              "      width: 32px;\n",
              "    }\n",
              "\n",
              "    .colab-df-convert:hover {\n",
              "      background-color: #E2EBFA;\n",
              "      box-shadow: 0px 1px 2px rgba(60, 64, 67, 0.3), 0px 1px 3px 1px rgba(60, 64, 67, 0.15);\n",
              "      fill: #174EA6;\n",
              "    }\n",
              "\n",
              "    [theme=dark] .colab-df-convert {\n",
              "      background-color: #3B4455;\n",
              "      fill: #D2E3FC;\n",
              "    }\n",
              "\n",
              "    [theme=dark] .colab-df-convert:hover {\n",
              "      background-color: #434B5C;\n",
              "      box-shadow: 0px 1px 3px 1px rgba(0, 0, 0, 0.15);\n",
              "      filter: drop-shadow(0px 1px 2px rgba(0, 0, 0, 0.3));\n",
              "      fill: #FFFFFF;\n",
              "    }\n",
              "  </style>\n",
              "\n",
              "      <script>\n",
              "        const buttonEl =\n",
              "          document.querySelector('#df-16542706-7cba-4f39-8210-c9e9c6e83d0c button.colab-df-convert');\n",
              "        buttonEl.style.display =\n",
              "          google.colab.kernel.accessAllowed ? 'block' : 'none';\n",
              "\n",
              "        async function convertToInteractive(key) {\n",
              "          const element = document.querySelector('#df-16542706-7cba-4f39-8210-c9e9c6e83d0c');\n",
              "          const dataTable =\n",
              "            await google.colab.kernel.invokeFunction('convertToInteractive',\n",
              "                                                     [key], {});\n",
              "          if (!dataTable) return;\n",
              "\n",
              "          const docLinkHtml = 'Like what you see? Visit the ' +\n",
              "            '<a target=\"_blank\" href=https://colab.research.google.com/notebooks/data_table.ipynb>data table notebook</a>'\n",
              "            + ' to learn more about interactive tables.';\n",
              "          element.innerHTML = '';\n",
              "          dataTable['output_type'] = 'display_data';\n",
              "          await google.colab.output.renderOutput(dataTable, element);\n",
              "          const docLink = document.createElement('div');\n",
              "          docLink.innerHTML = docLinkHtml;\n",
              "          element.appendChild(docLink);\n",
              "        }\n",
              "      </script>\n",
              "    </div>\n",
              "  </div>\n",
              "  "
            ]
          },
          "metadata": {},
          "execution_count": 11
        }
      ]
    },
    {
      "cell_type": "code",
      "source": [
        "data = dataset.copy()\n",
        "data.head()"
      ],
      "metadata": {
        "colab": {
          "base_uri": "https://localhost:8080/",
          "height": 238
        },
        "id": "KMEgUzXrMBSp",
        "outputId": "c03dd8f1-f200-4b12-83b7-c6d40df23daf"
      },
      "execution_count": 12,
      "outputs": [
        {
          "output_type": "execute_result",
          "data": {
            "text/plain": [
              "             CSIID   AppName  YEAR  MONTH  DAY  Incidents  Changes\n",
              "DATE                                                              \n",
              "2018-01-01  163186  GENESIS-  2018      1    1         34      NaN\n",
              "2018-01-02  163186  GENESIS-  2018      1    2         92      NaN\n",
              "2018-01-03  163186  GENESIS-  2018      1    3        126      NaN\n",
              "2018-01-04  163186  GENESIS-  2018      1    4        171      NaN\n",
              "2018-01-05  163186  GENESIS-  2018      1    5        169      NaN"
            ],
            "text/html": [
              "\n",
              "  <div id=\"df-a972ded9-4e31-4b74-ae9d-ce0ff997818b\">\n",
              "    <div class=\"colab-df-container\">\n",
              "      <div>\n",
              "<style scoped>\n",
              "    .dataframe tbody tr th:only-of-type {\n",
              "        vertical-align: middle;\n",
              "    }\n",
              "\n",
              "    .dataframe tbody tr th {\n",
              "        vertical-align: top;\n",
              "    }\n",
              "\n",
              "    .dataframe thead th {\n",
              "        text-align: right;\n",
              "    }\n",
              "</style>\n",
              "<table border=\"1\" class=\"dataframe\">\n",
              "  <thead>\n",
              "    <tr style=\"text-align: right;\">\n",
              "      <th></th>\n",
              "      <th>CSIID</th>\n",
              "      <th>AppName</th>\n",
              "      <th>YEAR</th>\n",
              "      <th>MONTH</th>\n",
              "      <th>DAY</th>\n",
              "      <th>Incidents</th>\n",
              "      <th>Changes</th>\n",
              "    </tr>\n",
              "    <tr>\n",
              "      <th>DATE</th>\n",
              "      <th></th>\n",
              "      <th></th>\n",
              "      <th></th>\n",
              "      <th></th>\n",
              "      <th></th>\n",
              "      <th></th>\n",
              "      <th></th>\n",
              "    </tr>\n",
              "  </thead>\n",
              "  <tbody>\n",
              "    <tr>\n",
              "      <th>2018-01-01</th>\n",
              "      <td>163186</td>\n",
              "      <td>GENESIS-</td>\n",
              "      <td>2018</td>\n",
              "      <td>1</td>\n",
              "      <td>1</td>\n",
              "      <td>34</td>\n",
              "      <td>NaN</td>\n",
              "    </tr>\n",
              "    <tr>\n",
              "      <th>2018-01-02</th>\n",
              "      <td>163186</td>\n",
              "      <td>GENESIS-</td>\n",
              "      <td>2018</td>\n",
              "      <td>1</td>\n",
              "      <td>2</td>\n",
              "      <td>92</td>\n",
              "      <td>NaN</td>\n",
              "    </tr>\n",
              "    <tr>\n",
              "      <th>2018-01-03</th>\n",
              "      <td>163186</td>\n",
              "      <td>GENESIS-</td>\n",
              "      <td>2018</td>\n",
              "      <td>1</td>\n",
              "      <td>3</td>\n",
              "      <td>126</td>\n",
              "      <td>NaN</td>\n",
              "    </tr>\n",
              "    <tr>\n",
              "      <th>2018-01-04</th>\n",
              "      <td>163186</td>\n",
              "      <td>GENESIS-</td>\n",
              "      <td>2018</td>\n",
              "      <td>1</td>\n",
              "      <td>4</td>\n",
              "      <td>171</td>\n",
              "      <td>NaN</td>\n",
              "    </tr>\n",
              "    <tr>\n",
              "      <th>2018-01-05</th>\n",
              "      <td>163186</td>\n",
              "      <td>GENESIS-</td>\n",
              "      <td>2018</td>\n",
              "      <td>1</td>\n",
              "      <td>5</td>\n",
              "      <td>169</td>\n",
              "      <td>NaN</td>\n",
              "    </tr>\n",
              "  </tbody>\n",
              "</table>\n",
              "</div>\n",
              "      <button class=\"colab-df-convert\" onclick=\"convertToInteractive('df-a972ded9-4e31-4b74-ae9d-ce0ff997818b')\"\n",
              "              title=\"Convert this dataframe to an interactive table.\"\n",
              "              style=\"display:none;\">\n",
              "        \n",
              "  <svg xmlns=\"http://www.w3.org/2000/svg\" height=\"24px\"viewBox=\"0 0 24 24\"\n",
              "       width=\"24px\">\n",
              "    <path d=\"M0 0h24v24H0V0z\" fill=\"none\"/>\n",
              "    <path d=\"M18.56 5.44l.94 2.06.94-2.06 2.06-.94-2.06-.94-.94-2.06-.94 2.06-2.06.94zm-11 1L8.5 8.5l.94-2.06 2.06-.94-2.06-.94L8.5 2.5l-.94 2.06-2.06.94zm10 10l.94 2.06.94-2.06 2.06-.94-2.06-.94-.94-2.06-.94 2.06-2.06.94z\"/><path d=\"M17.41 7.96l-1.37-1.37c-.4-.4-.92-.59-1.43-.59-.52 0-1.04.2-1.43.59L10.3 9.45l-7.72 7.72c-.78.78-.78 2.05 0 2.83L4 21.41c.39.39.9.59 1.41.59.51 0 1.02-.2 1.41-.59l7.78-7.78 2.81-2.81c.8-.78.8-2.07 0-2.86zM5.41 20L4 18.59l7.72-7.72 1.47 1.35L5.41 20z\"/>\n",
              "  </svg>\n",
              "      </button>\n",
              "      \n",
              "  <style>\n",
              "    .colab-df-container {\n",
              "      display:flex;\n",
              "      flex-wrap:wrap;\n",
              "      gap: 12px;\n",
              "    }\n",
              "\n",
              "    .colab-df-convert {\n",
              "      background-color: #E8F0FE;\n",
              "      border: none;\n",
              "      border-radius: 50%;\n",
              "      cursor: pointer;\n",
              "      display: none;\n",
              "      fill: #1967D2;\n",
              "      height: 32px;\n",
              "      padding: 0 0 0 0;\n",
              "      width: 32px;\n",
              "    }\n",
              "\n",
              "    .colab-df-convert:hover {\n",
              "      background-color: #E2EBFA;\n",
              "      box-shadow: 0px 1px 2px rgba(60, 64, 67, 0.3), 0px 1px 3px 1px rgba(60, 64, 67, 0.15);\n",
              "      fill: #174EA6;\n",
              "    }\n",
              "\n",
              "    [theme=dark] .colab-df-convert {\n",
              "      background-color: #3B4455;\n",
              "      fill: #D2E3FC;\n",
              "    }\n",
              "\n",
              "    [theme=dark] .colab-df-convert:hover {\n",
              "      background-color: #434B5C;\n",
              "      box-shadow: 0px 1px 3px 1px rgba(0, 0, 0, 0.15);\n",
              "      filter: drop-shadow(0px 1px 2px rgba(0, 0, 0, 0.3));\n",
              "      fill: #FFFFFF;\n",
              "    }\n",
              "  </style>\n",
              "\n",
              "      <script>\n",
              "        const buttonEl =\n",
              "          document.querySelector('#df-a972ded9-4e31-4b74-ae9d-ce0ff997818b button.colab-df-convert');\n",
              "        buttonEl.style.display =\n",
              "          google.colab.kernel.accessAllowed ? 'block' : 'none';\n",
              "\n",
              "        async function convertToInteractive(key) {\n",
              "          const element = document.querySelector('#df-a972ded9-4e31-4b74-ae9d-ce0ff997818b');\n",
              "          const dataTable =\n",
              "            await google.colab.kernel.invokeFunction('convertToInteractive',\n",
              "                                                     [key], {});\n",
              "          if (!dataTable) return;\n",
              "\n",
              "          const docLinkHtml = 'Like what you see? Visit the ' +\n",
              "            '<a target=\"_blank\" href=https://colab.research.google.com/notebooks/data_table.ipynb>data table notebook</a>'\n",
              "            + ' to learn more about interactive tables.';\n",
              "          element.innerHTML = '';\n",
              "          dataTable['output_type'] = 'display_data';\n",
              "          await google.colab.output.renderOutput(dataTable, element);\n",
              "          const docLink = document.createElement('div');\n",
              "          docLink.innerHTML = docLinkHtml;\n",
              "          element.appendChild(docLink);\n",
              "        }\n",
              "      </script>\n",
              "    </div>\n",
              "  </div>\n",
              "  "
            ]
          },
          "metadata": {},
          "execution_count": 12
        }
      ]
    },
    {
      "cell_type": "code",
      "source": [
        "data.columns"
      ],
      "metadata": {
        "colab": {
          "base_uri": "https://localhost:8080/"
        },
        "id": "nhR1L4An_TPv",
        "outputId": "73fd1ef2-6555-4dad-8c87-6d98521f2a13"
      },
      "execution_count": 13,
      "outputs": [
        {
          "output_type": "execute_result",
          "data": {
            "text/plain": [
              "Index(['CSIID', 'AppName', 'YEAR', 'MONTH', 'DAY', 'Incidents', 'Changes'], dtype='object')"
            ]
          },
          "metadata": {},
          "execution_count": 13
        }
      ]
    },
    {
      "cell_type": "code",
      "source": [
        "data.drop([\"CSIID\",'AppName','YEAR', 'MONTH', 'DAY','Changes'], inplace = True, axis = 1)\n",
        "data.head()"
      ],
      "metadata": {
        "colab": {
          "base_uri": "https://localhost:8080/",
          "height": 238
        },
        "id": "8aPGsx8APfXf",
        "outputId": "0f07468b-0ba5-462d-fb23-b24d08f4e55c"
      },
      "execution_count": 14,
      "outputs": [
        {
          "output_type": "execute_result",
          "data": {
            "text/plain": [
              "            Incidents\n",
              "DATE                 \n",
              "2018-01-01         34\n",
              "2018-01-02         92\n",
              "2018-01-03        126\n",
              "2018-01-04        171\n",
              "2018-01-05        169"
            ],
            "text/html": [
              "\n",
              "  <div id=\"df-09db0639-0326-4e78-b4b6-492dc082e560\">\n",
              "    <div class=\"colab-df-container\">\n",
              "      <div>\n",
              "<style scoped>\n",
              "    .dataframe tbody tr th:only-of-type {\n",
              "        vertical-align: middle;\n",
              "    }\n",
              "\n",
              "    .dataframe tbody tr th {\n",
              "        vertical-align: top;\n",
              "    }\n",
              "\n",
              "    .dataframe thead th {\n",
              "        text-align: right;\n",
              "    }\n",
              "</style>\n",
              "<table border=\"1\" class=\"dataframe\">\n",
              "  <thead>\n",
              "    <tr style=\"text-align: right;\">\n",
              "      <th></th>\n",
              "      <th>Incidents</th>\n",
              "    </tr>\n",
              "    <tr>\n",
              "      <th>DATE</th>\n",
              "      <th></th>\n",
              "    </tr>\n",
              "  </thead>\n",
              "  <tbody>\n",
              "    <tr>\n",
              "      <th>2018-01-01</th>\n",
              "      <td>34</td>\n",
              "    </tr>\n",
              "    <tr>\n",
              "      <th>2018-01-02</th>\n",
              "      <td>92</td>\n",
              "    </tr>\n",
              "    <tr>\n",
              "      <th>2018-01-03</th>\n",
              "      <td>126</td>\n",
              "    </tr>\n",
              "    <tr>\n",
              "      <th>2018-01-04</th>\n",
              "      <td>171</td>\n",
              "    </tr>\n",
              "    <tr>\n",
              "      <th>2018-01-05</th>\n",
              "      <td>169</td>\n",
              "    </tr>\n",
              "  </tbody>\n",
              "</table>\n",
              "</div>\n",
              "      <button class=\"colab-df-convert\" onclick=\"convertToInteractive('df-09db0639-0326-4e78-b4b6-492dc082e560')\"\n",
              "              title=\"Convert this dataframe to an interactive table.\"\n",
              "              style=\"display:none;\">\n",
              "        \n",
              "  <svg xmlns=\"http://www.w3.org/2000/svg\" height=\"24px\"viewBox=\"0 0 24 24\"\n",
              "       width=\"24px\">\n",
              "    <path d=\"M0 0h24v24H0V0z\" fill=\"none\"/>\n",
              "    <path d=\"M18.56 5.44l.94 2.06.94-2.06 2.06-.94-2.06-.94-.94-2.06-.94 2.06-2.06.94zm-11 1L8.5 8.5l.94-2.06 2.06-.94-2.06-.94L8.5 2.5l-.94 2.06-2.06.94zm10 10l.94 2.06.94-2.06 2.06-.94-2.06-.94-.94-2.06-.94 2.06-2.06.94z\"/><path d=\"M17.41 7.96l-1.37-1.37c-.4-.4-.92-.59-1.43-.59-.52 0-1.04.2-1.43.59L10.3 9.45l-7.72 7.72c-.78.78-.78 2.05 0 2.83L4 21.41c.39.39.9.59 1.41.59.51 0 1.02-.2 1.41-.59l7.78-7.78 2.81-2.81c.8-.78.8-2.07 0-2.86zM5.41 20L4 18.59l7.72-7.72 1.47 1.35L5.41 20z\"/>\n",
              "  </svg>\n",
              "      </button>\n",
              "      \n",
              "  <style>\n",
              "    .colab-df-container {\n",
              "      display:flex;\n",
              "      flex-wrap:wrap;\n",
              "      gap: 12px;\n",
              "    }\n",
              "\n",
              "    .colab-df-convert {\n",
              "      background-color: #E8F0FE;\n",
              "      border: none;\n",
              "      border-radius: 50%;\n",
              "      cursor: pointer;\n",
              "      display: none;\n",
              "      fill: #1967D2;\n",
              "      height: 32px;\n",
              "      padding: 0 0 0 0;\n",
              "      width: 32px;\n",
              "    }\n",
              "\n",
              "    .colab-df-convert:hover {\n",
              "      background-color: #E2EBFA;\n",
              "      box-shadow: 0px 1px 2px rgba(60, 64, 67, 0.3), 0px 1px 3px 1px rgba(60, 64, 67, 0.15);\n",
              "      fill: #174EA6;\n",
              "    }\n",
              "\n",
              "    [theme=dark] .colab-df-convert {\n",
              "      background-color: #3B4455;\n",
              "      fill: #D2E3FC;\n",
              "    }\n",
              "\n",
              "    [theme=dark] .colab-df-convert:hover {\n",
              "      background-color: #434B5C;\n",
              "      box-shadow: 0px 1px 3px 1px rgba(0, 0, 0, 0.15);\n",
              "      filter: drop-shadow(0px 1px 2px rgba(0, 0, 0, 0.3));\n",
              "      fill: #FFFFFF;\n",
              "    }\n",
              "  </style>\n",
              "\n",
              "      <script>\n",
              "        const buttonEl =\n",
              "          document.querySelector('#df-09db0639-0326-4e78-b4b6-492dc082e560 button.colab-df-convert');\n",
              "        buttonEl.style.display =\n",
              "          google.colab.kernel.accessAllowed ? 'block' : 'none';\n",
              "\n",
              "        async function convertToInteractive(key) {\n",
              "          const element = document.querySelector('#df-09db0639-0326-4e78-b4b6-492dc082e560');\n",
              "          const dataTable =\n",
              "            await google.colab.kernel.invokeFunction('convertToInteractive',\n",
              "                                                     [key], {});\n",
              "          if (!dataTable) return;\n",
              "\n",
              "          const docLinkHtml = 'Like what you see? Visit the ' +\n",
              "            '<a target=\"_blank\" href=https://colab.research.google.com/notebooks/data_table.ipynb>data table notebook</a>'\n",
              "            + ' to learn more about interactive tables.';\n",
              "          element.innerHTML = '';\n",
              "          dataTable['output_type'] = 'display_data';\n",
              "          await google.colab.output.renderOutput(dataTable, element);\n",
              "          const docLink = document.createElement('div');\n",
              "          docLink.innerHTML = docLinkHtml;\n",
              "          element.appendChild(docLink);\n",
              "        }\n",
              "      </script>\n",
              "    </div>\n",
              "  </div>\n",
              "  "
            ]
          },
          "metadata": {},
          "execution_count": 14
        }
      ]
    },
    {
      "cell_type": "code",
      "source": [
        "from IPython.core.pylabtools import figsize\n",
        "from pandas.plotting import lag_plot\n",
        "plt.figure(figsize = (12, 6))\n",
        "lag_plot(data, c = 'm', label = 'Incidents')\n",
        "plt.legend()\n",
        "plt.xlabel('Previous Days Incidents')\n",
        "plt.ylabel('Current Days Incidents')\n",
        "plt.title('Current Days Incidents vs Previous Days Incidents', color = 'red', size = 15, pad = 10)\n",
        "plt.show();"
      ],
      "metadata": {
        "colab": {
          "base_uri": "https://localhost:8080/",
          "height": 410
        },
        "id": "YObdXq-YT_UG",
        "outputId": "5f43ea5b-235e-4e25-9ae6-8b3b6def4e28"
      },
      "execution_count": 15,
      "outputs": [
        {
          "output_type": "display_data",
          "data": {
            "text/plain": [
              "<Figure size 864x432 with 1 Axes>"
            ],
            "image/png": "[encoded data removed]"
          },
          "metadata": {
            "needs_background": "light"
          }
        }
      ]
    },
    {
      "cell_type": "code",
      "source": [
        "data[\"Incidents\"].plot(figsize = (12,6), c = \"m\", label = \"Incidents\")\n",
        "plt.title('Incidents Data Graph', color = 'red', size = 15, pad = 10)\n",
        "plt.legend();"
      ],
      "metadata": {
        "colab": {
          "base_uri": "https://localhost:8080/",
          "height": 422
        },
        "id": "i35CMvc7OQTo",
        "outputId": "0a98ad7d-af70-4848-bd38-13253f832de3"
      },
      "execution_count": 16,
      "outputs": [
        {
          "output_type": "display_data",
          "data": {
            "text/plain": [
              "<Figure size 864x432 with 1 Axes>"
            ],
            "image/png": "[encoded data removed]"
          },
          "metadata": {
            "needs_background": "light"
          }
        }
      ]
    },
    {
      "cell_type": "markdown",
      "source": [
        "**Check for Stationary**"
      ],
      "metadata": {
        "id": "oA9hCoQ_Aexx"
      }
    },
    {
      "cell_type": "code",
      "source": [
        "from statsmodels.tsa.stattools import adfuller\n",
        "from statsmodels.tsa.ar_model import AutoReg\n",
        "dftest = adfuller(data['Incidents'], autolag = 'AIC')\n",
        "print(\"1. ADF : \", dftest[0])\n",
        "print(\"2. P-Value : \", dftest[1]) # if P-Value is less than 0.5, it's stationary otherwise not stationary\n",
        "print(\"3. Num of Lags : \", dftest[2])"
      ],
      "metadata": {
        "colab": {
          "base_uri": "https://localhost:8080/"
        },
        "id": "Gx-FjRpyAc6X",
        "outputId": "7c18e428-0909-492a-f769-3e0253a863fd"
      },
      "execution_count": 17,
      "outputs": [
        {
          "output_type": "stream",
          "name": "stdout",
          "text": [
            "1. ADF :  -3.2237947375656946\n",
            "2. P-Value :  0.018648005262243725\n",
            "3. Num of Lags :  22\n"
          ]
        }
      ]
    },
    {
      "cell_type": "code",
      "source": [
        "from statsmodels.graphics.tsaplots import plot_pacf, plot_acf\n",
        "pacf = plot_pacf(data['Incidents'], lags = 25, c = 'r')\n",
        "acf = plot_acf(data['Incidents'], lags = 25, c = 'm');"
      ],
      "metadata": {
        "id": "2Hiw3HbQOSR_",
        "colab": {
          "base_uri": "https://localhost:8080/",
          "height": 600
        },
        "outputId": "69dfee43-bb76-4585-ac0b-61403d63c5aa"
      },
      "execution_count": 18,
      "outputs": [
        {
          "output_type": "stream",
          "name": "stderr",
          "text": [
            "/usr/local/lib/python3.7/dist-packages/statsmodels/graphics/tsaplots.py:353: FutureWarning: The default method 'yw' can produce PACF values outside of the [-1,1] interval. After 0.13, the default will change tounadjusted Yule-Walker ('ywm'). You can use this method now by setting method='ywm'.\n",
            "  FutureWarning,\n"
          ]
        },
        {
          "output_type": "display_data",
          "data": {
            "text/plain": [
              "<Figure size 432x288 with 1 Axes>"
            ],
            "image/png": "[encoded data removed]"
          },
          "metadata": {
            "needs_background": "light"
          }
        },
        {
          "output_type": "display_data",
          "data": {
            "text/plain": [
              "<Figure size 432x288 with 1 Axes>"
            ],
            "image/png": "[encoded data removed]"
          },
          "metadata": {
            "needs_background": "light"
          }
        }
      ]
    },
    {
      "cell_type": "code",
      "source": [
        "len(data)"
      ],
      "metadata": {
        "colab": {
          "base_uri": "https://localhost:8080/"
        },
        "id": "-DuFj4Z4ETPw",
        "outputId": "be273e81-1ecf-4904-d620-88f8fb9b3164"
      },
      "execution_count": 19,
      "outputs": [
        {
          "output_type": "execute_result",
          "data": {
            "text/plain": [
              "1460"
            ]
          },
          "metadata": {},
          "execution_count": 19
        }
      ]
    },
    {
      "cell_type": "code",
      "source": [
        "X = data.values\n",
        "X"
      ],
      "metadata": {
        "colab": {
          "base_uri": "https://localhost:8080/"
        },
        "id": "ApL4OyvgmxSy",
        "outputId": "359749a9-9800-4867-ba72-517af60542bb"
      },
      "execution_count": 20,
      "outputs": [
        {
          "output_type": "execute_result",
          "data": {
            "text/plain": [
              "array([[ 34],\n",
              "       [ 92],\n",
              "       [126],\n",
              "       ...,\n",
              "       [ 76],\n",
              "       [ 58],\n",
              "       [ 62]])"
            ]
          },
          "metadata": {},
          "execution_count": 20
        }
      ]
    },
    {
      "cell_type": "markdown",
      "source": [
        "**Split Dataset intro Train & Test: Testing : Last 30 days**"
      ],
      "metadata": {
        "id": "akPfKyAZEBdX"
      }
    },
    {
      "cell_type": "code",
      "source": [
        "train = X[:len(X)-30]\n",
        "test = X[len(X)-30:]"
      ],
      "metadata": {
        "id": "3pv7t_T8DL_n"
      },
      "execution_count": 21,
      "outputs": []
    },
    {
      "cell_type": "code",
      "source": [
        "model = AutoReg(train, lags = 20).fit()"
      ],
      "metadata": {
        "id": "IrDMerrOEdkn"
      },
      "execution_count": 22,
      "outputs": []
    },
    {
      "cell_type": "code",
      "source": [
        "print(model.summary())"
      ],
      "metadata": {
        "colab": {
          "base_uri": "https://localhost:8080/"
        },
        "id": "-4q3K-djFTuu",
        "outputId": "4eb4a98b-c097-495d-eac6-bdbc0255f7b1"
      },
      "execution_count": 23,
      "outputs": [
        {
          "output_type": "stream",
          "name": "stdout",
          "text": [
            "                            AutoReg Model Results                             \n",
            "==============================================================================\n",
            "Dep. Variable:                      y   No. Observations:                 1430\n",
            "Model:                    AutoReg(20)   Log Likelihood               -7102.634\n",
            "Method:               Conditional MLE   S.D. of innovations             37.278\n",
            "Date:                Sun, 07 Aug 2022   AIC                          14249.268\n",
            "Time:                        06:17:31   BIC                          14364.797\n",
            "Sample:                            20   HQIC                         14292.440\n",
            "                                 1430                                         \n",
            "==============================================================================\n",
            "                 coef    std err          z      P>|z|      [0.025      0.975]\n",
            "------------------------------------------------------------------------------\n",
            "const          8.1530      2.608      3.126      0.002       3.041      13.265\n",
            "y.L1           0.3775      0.026     14.270      0.000       0.326       0.429\n",
            "y.L2           0.0905      0.028      3.199      0.001       0.035       0.146\n",
            "y.L3           0.1321      0.028      4.653      0.000       0.076       0.188\n",
            "y.L4          -0.0256      0.029     -0.898      0.369      -0.082       0.030\n",
            "y.L5           0.0650      0.028      2.284      0.022       0.009       0.121\n",
            "y.L6           0.0502      0.028      1.764      0.078      -0.006       0.106\n",
            "y.L7           0.3389      0.028     12.152      0.000       0.284       0.394\n",
            "y.L8          -0.0842      0.029     -2.872      0.004      -0.142      -0.027\n",
            "y.L9          -0.0994      0.029     -3.394      0.001      -0.157      -0.042\n",
            "y.L10         -0.0368      0.029     -1.253      0.210      -0.094       0.021\n",
            "y.L11         -0.0059      0.029     -0.202      0.840      -0.064       0.052\n",
            "y.L12         -0.0957      0.029     -3.270      0.001      -0.153      -0.038\n",
            "y.L13          0.0240      0.029      0.821      0.412      -0.033       0.081\n",
            "y.L14          0.2245      0.028      8.090      0.000       0.170       0.279\n",
            "y.L15         -0.0108      0.028     -0.381      0.703      -0.066       0.045\n",
            "y.L16         -0.1043      0.028     -3.683      0.000      -0.160      -0.049\n",
            "y.L17         -0.0294      0.028     -1.032      0.302      -0.085       0.026\n",
            "y.L18         -0.0015      0.028     -0.054      0.957      -0.057       0.054\n",
            "y.L19         -0.0054      0.028     -0.191      0.849      -0.061       0.050\n",
            "y.L20          0.1145      0.026      4.356      0.000       0.063       0.166\n",
            "                                    Roots                                     \n",
            "==============================================================================\n",
            "                   Real          Imaginary           Modulus         Frequency\n",
            "------------------------------------------------------------------------------\n",
            "AR.1             1.0186           -0.0000j            1.0186           -0.0000\n",
            "AR.2             1.0822           -0.2771j            1.1171           -0.0399\n",
            "AR.3             1.0822           +0.2771j            1.1171            0.0399\n",
            "AR.4             0.6303           -0.7942j            1.0139           -0.1432\n",
            "AR.5             0.6303           +0.7942j            1.0139            0.1432\n",
            "AR.6             0.9722           -0.6272j            1.1570           -0.0912\n",
            "AR.7             0.9722           +0.6272j            1.1570            0.0912\n",
            "AR.8             0.3183           -1.0605j            1.1073           -0.2036\n",
            "AR.9             0.3183           +1.0605j            1.1073            0.2036\n",
            "AR.10           -1.1565           -0.0000j            1.1565           -0.5000\n",
            "AR.11           -1.0465           -0.4077j            1.1231           -0.4409\n",
            "AR.12           -1.0465           +0.4077j            1.1231            0.4409\n",
            "AR.13           -0.9398           -0.6320j            1.1326           -0.4058\n",
            "AR.14           -0.9398           +0.6320j            1.1326            0.4058\n",
            "AR.15           -0.6556           -0.8928j            1.1077           -0.3508\n",
            "AR.16           -0.6556           +0.8928j            1.1077            0.3508\n",
            "AR.17           -0.2381           -1.0109j            1.0385           -0.2868\n",
            "AR.18           -0.2381           +1.0109j            1.0385            0.2868\n",
            "AR.19           -0.0306           -1.2822j            1.2825           -0.2538\n",
            "AR.20           -0.0306           +1.2822j            1.2825            0.2538\n",
            "------------------------------------------------------------------------------\n"
          ]
        }
      ]
    },
    {
      "cell_type": "code",
      "source": [
        "print(len(train))"
      ],
      "metadata": {
        "colab": {
          "base_uri": "https://localhost:8080/"
        },
        "id": "WdpSqJdbFVtI",
        "outputId": "d73cdaaf-7ed5-42f9-da83-500d5c5d3874"
      },
      "execution_count": 24,
      "outputs": [
        {
          "output_type": "stream",
          "name": "stdout",
          "text": [
            "1430\n"
          ]
        }
      ]
    },
    {
      "cell_type": "markdown",
      "source": [
        "**Make Predictions on Test Set and Compare**"
      ],
      "metadata": {
        "id": "U9v42-CsFzdO"
      }
    },
    {
      "cell_type": "code",
      "source": [
        "pred = model.predict(start = len(train), end = len(X)-1, dynamic = False)"
      ],
      "metadata": {
        "id": "74-8z2vbFySq"
      },
      "execution_count": 25,
      "outputs": []
    },
    {
      "cell_type": "code",
      "source": [
        "plt.plot(pred, color = \"m\", label = \"Prediction\")\n",
        "plt.plot(test, color = 'red', label = \"Test\")\n",
        "plt.title('Prediction vs Test', color = 'red', size = 15, pad = 10)\n",
        "plt.legend();\n",
        "print(pred)"
      ],
      "metadata": {
        "colab": {
          "base_uri": "https://localhost:8080/",
          "height": 391
        },
        "id": "CzDBrIiLnnyX",
        "outputId": "9b52c0a5-3f78-477a-bd1c-12663baa7a48"
      },
      "execution_count": 26,
      "outputs": [
        {
          "output_type": "stream",
          "name": "stdout",
          "text": [
            "[ 71.44608055  71.95553231  69.88478985  51.72659026  47.99588082\n",
            "  79.72529921 102.02878842  85.64321721  73.95027882  74.8816264\n",
            "  61.71125633  54.75972648  83.94860871 100.54899291  85.67328551\n",
            "  77.45372836  76.58263713  60.57712227  60.22586006  84.42278189\n",
            "  97.88135174  88.64699524  79.72426442  76.57335737  65.62297933\n",
            "  65.53447058  86.75805741  98.64695739  90.31428489  83.13145346]\n"
          ]
        },
        {
          "output_type": "display_data",
          "data": {
            "text/plain": [
              "<Figure size 432x288 with 1 Axes>"
            ],
            "image/png": "[encoded data removed]"
          },
          "metadata": {
            "needs_background": "light"
          }
        }
      ]
    },
    {
      "cell_type": "markdown",
      "source": [
        "**Calculate Root mean Square error for AR model**"
      ],
      "metadata": {
        "id": "6CFpr2ZTowVI"
      }
    },
    {
      "cell_type": "code",
      "source": [
        "root_mean_square_error = sqrt(mean_squared_error(test, pred))\n",
        "print(root_mean_square_error)"
      ],
      "metadata": {
        "colab": {
          "base_uri": "https://localhost:8080/"
        },
        "id": "S33JNIuVotzd",
        "outputId": "6e45fa4b-3c42-4567-932b-9d8285c78357"
      },
      "execution_count": 27,
      "outputs": [
        {
          "output_type": "stream",
          "name": "stdout",
          "text": [
            "31.001190409204458\n"
          ]
        }
      ]
    },
    {
      "cell_type": "markdown",
      "source": [
        "**Making Future Prediction**"
      ],
      "metadata": {
        "id": "Ep2J5qwDpvqf"
      }
    },
    {
      "cell_type": "code",
      "source": [
        ""
      ],
      "metadata": {
        "id": "SAsB5ma_Yu_a"
      },
      "execution_count": 27,
      "outputs": []
    },
    {
      "cell_type": "code",
      "source": [
        "pred_future = model.predict(start = len(X)+1, end = len(X)+30, dynamic = False)\n",
        "print(f\"The Futue prediction for the next month : \\n {pred_future}\")"
      ],
      "metadata": {
        "colab": {
          "base_uri": "https://localhost:8080/"
        },
        "id": "1OvCEG9woADb",
        "outputId": "3ad8ee46-9e76-49d7-e62f-fd43c1ab4af3"
      },
      "execution_count": 28,
      "outputs": [
        {
          "output_type": "stream",
          "name": "stdout",
          "text": [
            "The Futue prediction for the next month : \n",
            " [69.13001181 70.66109121 88.83802826 98.64174871 92.40746932 85.69590464\n",
            " 80.38962529 72.38779994 74.55398905 90.11383599 98.80254962 93.56452936\n",
            " 87.36365185 81.99278386 75.11490153 77.8639908  91.42583007 98.82780536\n",
            " 94.75690012 89.02647866 83.42433336 77.73065618 80.79084891 92.56533245\n",
            " 99.07135932 95.76083595 90.33658223 84.86745444 80.07751798 83.25893879]\n"
          ]
        }
      ]
    },
    {
      "cell_type": "markdown",
      "source": [
        "**For LSTM model**"
      ],
      "metadata": {
        "id": "s_OTLxLlciFt"
      }
    },
    {
      "cell_type": "code",
      "source": [
        "data.head(), data.tail()"
      ],
      "metadata": {
        "colab": {
          "base_uri": "https://localhost:8080/"
        },
        "id": "J8SYLOSAc5Kf",
        "outputId": "efed2a80-c95b-4b39-cfe4-1ef44d40d2c5"
      },
      "execution_count": 29,
      "outputs": [
        {
          "output_type": "execute_result",
          "data": {
            "text/plain": [
              "(            Incidents\n",
              " DATE                 \n",
              " 2018-01-01         34\n",
              " 2018-01-02         92\n",
              " 2018-01-03        126\n",
              " 2018-01-04        171\n",
              " 2018-01-05        169,             Incidents\n",
              " DATE                 \n",
              " 2021-12-26         25\n",
              " 2021-12-27         89\n",
              " 2021-12-28         76\n",
              " 2021-12-29         58\n",
              " 2021-12-30         62)"
            ]
          },
          "metadata": {},
          "execution_count": 29
        }
      ]
    },
    {
      "cell_type": "markdown",
      "source": [
        "**Split train & test data**"
      ],
      "metadata": {
        "id": "n4g5t79bXj_w"
      }
    },
    {
      "cell_type": "code",
      "source": [
        "train = data.iloc[:len(data)-30]\n",
        "test = data.iloc[len(data)-30:]"
      ],
      "metadata": {
        "id": "hlv0BaG_OY-0"
      },
      "execution_count": 30,
      "outputs": []
    },
    {
      "cell_type": "code",
      "source": [
        "train.head()"
      ],
      "metadata": {
        "colab": {
          "base_uri": "https://localhost:8080/",
          "height": 238
        },
        "id": "JOULo6ArPBMO",
        "outputId": "2609f319-4afa-43c4-af2e-3c432345cd87"
      },
      "execution_count": 31,
      "outputs": [
        {
          "output_type": "execute_result",
          "data": {
            "text/plain": [
              "            Incidents\n",
              "DATE                 \n",
              "2018-01-01         34\n",
              "2018-01-02         92\n",
              "2018-01-03        126\n",
              "2018-01-04        171\n",
              "2018-01-05        169"
            ],
            "text/html": [
              "\n",
              "  <div id=\"df-20c03794-6df6-4d7e-8daf-52b6b4e05ab5\">\n",
              "    <div class=\"colab-df-container\">\n",
              "      <div>\n",
              "<style scoped>\n",
              "    .dataframe tbody tr th:only-of-type {\n",
              "        vertical-align: middle;\n",
              "    }\n",
              "\n",
              "    .dataframe tbody tr th {\n",
              "        vertical-align: top;\n",
              "    }\n",
              "\n",
              "    .dataframe thead th {\n",
              "        text-align: right;\n",
              "    }\n",
              "</style>\n",
              "<table border=\"1\" class=\"dataframe\">\n",
              "  <thead>\n",
              "    <tr style=\"text-align: right;\">\n",
              "      <th></th>\n",
              "      <th>Incidents</th>\n",
              "    </tr>\n",
              "    <tr>\n",
              "      <th>DATE</th>\n",
              "      <th></th>\n",
              "    </tr>\n",
              "  </thead>\n",
              "  <tbody>\n",
              "    <tr>\n",
              "      <th>2018-01-01</th>\n",
              "      <td>34</td>\n",
              "    </tr>\n",
              "    <tr>\n",
              "      <th>2018-01-02</th>\n",
              "      <td>92</td>\n",
              "    </tr>\n",
              "    <tr>\n",
              "      <th>2018-01-03</th>\n",
              "      <td>126</td>\n",
              "    </tr>\n",
              "    <tr>\n",
              "      <th>2018-01-04</th>\n",
              "      <td>171</td>\n",
              "    </tr>\n",
              "    <tr>\n",
              "      <th>2018-01-05</th>\n",
              "      <td>169</td>\n",
              "    </tr>\n",
              "  </tbody>\n",
              "</table>\n",
              "</div>\n",
              "      <button class=\"colab-df-convert\" onclick=\"convertToInteractive('df-20c03794-6df6-4d7e-8daf-52b6b4e05ab5')\"\n",
              "              title=\"Convert this dataframe to an interactive table.\"\n",
              "              style=\"display:none;\">\n",
              "        \n",
              "  <svg xmlns=\"http://www.w3.org/2000/svg\" height=\"24px\"viewBox=\"0 0 24 24\"\n",
              "       width=\"24px\">\n",
              "    <path d=\"M0 0h24v24H0V0z\" fill=\"none\"/>\n",
              "    <path d=\"M18.56 5.44l.94 2.06.94-2.06 2.06-.94-2.06-.94-.94-2.06-.94 2.06-2.06.94zm-11 1L8.5 8.5l.94-2.06 2.06-.94-2.06-.94L8.5 2.5l-.94 2.06-2.06.94zm10 10l.94 2.06.94-2.06 2.06-.94-2.06-.94-.94-2.06-.94 2.06-2.06.94z\"/><path d=\"M17.41 7.96l-1.37-1.37c-.4-.4-.92-.59-1.43-.59-.52 0-1.04.2-1.43.59L10.3 9.45l-7.72 7.72c-.78.78-.78 2.05 0 2.83L4 21.41c.39.39.9.59 1.41.59.51 0 1.02-.2 1.41-.59l7.78-7.78 2.81-2.81c.8-.78.8-2.07 0-2.86zM5.41 20L4 18.59l7.72-7.72 1.47 1.35L5.41 20z\"/>\n",
              "  </svg>\n",
              "      </button>\n",
              "      \n",
              "  <style>\n",
              "    .colab-df-container {\n",
              "      display:flex;\n",
              "      flex-wrap:wrap;\n",
              "      gap: 12px;\n",
              "    }\n",
              "\n",
              "    .colab-df-convert {\n",
              "      background-color: #E8F0FE;\n",
              "      border: none;\n",
              "      border-radius: 50%;\n",
              "      cursor: pointer;\n",
              "      display: none;\n",
              "      fill: #1967D2;\n",
              "      height: 32px;\n",
              "      padding: 0 0 0 0;\n",
              "      width: 32px;\n",
              "    }\n",
              "\n",
              "    .colab-df-convert:hover {\n",
              "      background-color: #E2EBFA;\n",
              "      box-shadow: 0px 1px 2px rgba(60, 64, 67, 0.3), 0px 1px 3px 1px rgba(60, 64, 67, 0.15);\n",
              "      fill: #174EA6;\n",
              "    }\n",
              "\n",
              "    [theme=dark] .colab-df-convert {\n",
              "      background-color: #3B4455;\n",
              "      fill: #D2E3FC;\n",
              "    }\n",
              "\n",
              "    [theme=dark] .colab-df-convert:hover {\n",
              "      background-color: #434B5C;\n",
              "      box-shadow: 0px 1px 3px 1px rgba(0, 0, 0, 0.15);\n",
              "      filter: drop-shadow(0px 1px 2px rgba(0, 0, 0, 0.3));\n",
              "      fill: #FFFFFF;\n",
              "    }\n",
              "  </style>\n",
              "\n",
              "      <script>\n",
              "        const buttonEl =\n",
              "          document.querySelector('#df-20c03794-6df6-4d7e-8daf-52b6b4e05ab5 button.colab-df-convert');\n",
              "        buttonEl.style.display =\n",
              "          google.colab.kernel.accessAllowed ? 'block' : 'none';\n",
              "\n",
              "        async function convertToInteractive(key) {\n",
              "          const element = document.querySelector('#df-20c03794-6df6-4d7e-8daf-52b6b4e05ab5');\n",
              "          const dataTable =\n",
              "            await google.colab.kernel.invokeFunction('convertToInteractive',\n",
              "                                                     [key], {});\n",
              "          if (!dataTable) return;\n",
              "\n",
              "          const docLinkHtml = 'Like what you see? Visit the ' +\n",
              "            '<a target=\"_blank\" href=https://colab.research.google.com/notebooks/data_table.ipynb>data table notebook</a>'\n",
              "            + ' to learn more about interactive tables.';\n",
              "          element.innerHTML = '';\n",
              "          dataTable['output_type'] = 'display_data';\n",
              "          await google.colab.output.renderOutput(dataTable, element);\n",
              "          const docLink = document.createElement('div');\n",
              "          docLink.innerHTML = docLinkHtml;\n",
              "          element.appendChild(docLink);\n",
              "        }\n",
              "      </script>\n",
              "    </div>\n",
              "  </div>\n",
              "  "
            ]
          },
          "metadata": {},
          "execution_count": 31
        }
      ]
    },
    {
      "cell_type": "code",
      "source": [
        "# Data preprocessing \n",
        "from sklearn.preprocessing import MinMaxScaler\n",
        "scaler = MinMaxScaler()"
      ],
      "metadata": {
        "id": "sEHOyrchqXDi"
      },
      "execution_count": 32,
      "outputs": []
    },
    {
      "cell_type": "code",
      "source": [
        "scaler.fit(train)\n",
        "scaled_train = scaler.transform(train)\n",
        "scaled_test = scaler.transform(test)"
      ],
      "metadata": {
        "id": "o25HFBFFc_lC"
      },
      "execution_count": 33,
      "outputs": []
    },
    {
      "cell_type": "code",
      "source": [
        "scaled_train[:10]"
      ],
      "metadata": {
        "colab": {
          "base_uri": "https://localhost:8080/"
        },
        "id": "x6kOZ9hcdFPx",
        "outputId": "02d47f1b-20e3-4034-9118-aecef5e5d071"
      },
      "execution_count": 34,
      "outputs": [
        {
          "output_type": "execute_result",
          "data": {
            "text/plain": [
              "array([[0.05289256],\n",
              "       [0.14876033],\n",
              "       [0.20495868],\n",
              "       [0.27933884],\n",
              "       [0.27603306],\n",
              "       [0.07438017],\n",
              "       [0.01818182],\n",
              "       [0.30082645],\n",
              "       [0.22644628],\n",
              "       [0.32066116]])"
            ]
          },
          "metadata": {},
          "execution_count": 34
        }
      ]
    },
    {
      "cell_type": "code",
      "source": [
        "from keras.preprocessing.sequence import TimeseriesGenerator"
      ],
      "metadata": {
        "id": "qHFjPc8kddX-"
      },
      "execution_count": 35,
      "outputs": []
    },
    {
      "cell_type": "code",
      "source": [
        "#define generator\n",
        "n_input = 3 # number of previous value consider for next future value prediction\n",
        "n_features = 1\n",
        "generator = TimeseriesGenerator(scaled_train, scaled_train, length = n_input, batch_size= 1)"
      ],
      "metadata": {
        "id": "slKe9laDduRS"
      },
      "execution_count": 36,
      "outputs": []
    },
    {
      "cell_type": "code",
      "source": [
        "X,y = generator[0]\n",
        "print(f\"Given the array: \\n{X.flatten()}\")\n",
        "print(f\"Predict this y:\\n{y}\")"
      ],
      "metadata": {
        "colab": {
          "base_uri": "https://localhost:8080/"
        },
        "id": "NlY5JRgqeLyo",
        "outputId": "ee40ecc2-fca2-40b8-e06e-bb65bc40c3d9"
      },
      "execution_count": 37,
      "outputs": [
        {
          "output_type": "stream",
          "name": "stdout",
          "text": [
            "Given the array: \n",
            "[0.05289256 0.14876033 0.20495868]\n",
            "Predict this y:\n",
            "[[0.27933884]]\n"
          ]
        }
      ]
    },
    {
      "cell_type": "code",
      "source": [
        "X.shape"
      ],
      "metadata": {
        "colab": {
          "base_uri": "https://localhost:8080/"
        },
        "id": "2wWfCk-metVd",
        "outputId": "dab17bfa-e4cc-401c-a9fb-1cba3dcf3703"
      },
      "execution_count": 38,
      "outputs": [
        {
          "output_type": "execute_result",
          "data": {
            "text/plain": [
              "(1, 3, 1)"
            ]
          },
          "metadata": {},
          "execution_count": 38
        }
      ]
    },
    {
      "cell_type": "code",
      "source": [
        "# We do same thing, but now for 30 days\n",
        "n_input = 30\n",
        "generator = TimeseriesGenerator(scaled_train, scaled_train, length = n_input, batch_size= 1)"
      ],
      "metadata": {
        "id": "MtFe9hTCew9w"
      },
      "execution_count": 39,
      "outputs": []
    },
    {
      "cell_type": "code",
      "source": [
        "from keras.models import Sequential\n",
        "from keras.layers import Dense, LSTM"
      ],
      "metadata": {
        "id": "ekqT7Ir4fCdA"
      },
      "execution_count": 40,
      "outputs": []
    },
    {
      "cell_type": "code",
      "source": [
        "#Define Model\n",
        "model = Sequential()\n",
        "model.add(LSTM(100, activation = 'relu', input_shape = (n_input, n_features)))\n",
        "model.add(Dense(1))\n",
        "model.compile(optimizer=\"adam\", loss = 'mse')"
      ],
      "metadata": {
        "id": "uPlFB1N8fSTP"
      },
      "execution_count": 41,
      "outputs": []
    },
    {
      "cell_type": "code",
      "source": [
        "model.summary()"
      ],
      "metadata": {
        "colab": {
          "base_uri": "https://localhost:8080/"
        },
        "id": "lSBSfuccf3Y0",
        "outputId": "b90f7eb3-9157-4cfd-c9ed-3b9333aa8848"
      },
      "execution_count": 42,
      "outputs": [
        {
          "output_type": "stream",
          "name": "stdout",
          "text": [
            "Model: \"sequential\"\n",
            "_________________________________________________________________\n",
            " Layer (type)                Output Shape              Param #   \n",
            "=================================================================\n",
            " lstm (LSTM)                 (None, 100)               40800     \n",
            "                                                                 \n",
            " dense (Dense)               (None, 1)                 101       \n",
            "                                                                 \n",
            "=================================================================\n",
            "Total params: 40,901\n",
            "Trainable params: 40,901\n",
            "Non-trainable params: 0\n",
            "_________________________________________________________________\n"
          ]
        }
      ]
    },
    {
      "cell_type": "code",
      "source": [
        "#fit model\n",
        "model.fit(generator, epochs = 50)"
      ],
      "metadata": {
        "colab": {
          "base_uri": "https://localhost:8080/"
        },
        "id": "AQqnRgMff8BQ",
        "outputId": "26ac6570-a354-44ad-e51d-80c17c202aa9"
      },
      "execution_count": 43,
      "outputs": [
        {
          "output_type": "stream",
          "name": "stdout",
          "text": [
            "Epoch 1/50\n",
            "1400/1400 [==============================] - 31s 21ms/step - loss: 0.0080\n",
            "Epoch 2/50\n",
            "1400/1400 [==============================] - 16s 12ms/step - loss: 0.0072\n",
            "Epoch 3/50\n",
            "1400/1400 [==============================] - 16s 11ms/step - loss: 0.0066\n",
            "Epoch 4/50\n",
            "1400/1400 [==============================] - 16s 12ms/step - loss: 0.0057\n",
            "Epoch 5/50\n",
            "1400/1400 [==============================] - 19s 13ms/step - loss: 0.0052\n",
            "Epoch 6/50\n",
            "1400/1400 [==============================] - 16s 12ms/step - loss: 0.0051\n",
            "Epoch 7/50\n",
            "1400/1400 [==============================] - 16s 12ms/step - loss: 0.0049\n",
            "Epoch 8/50\n",
            "1400/1400 [==============================] - 16s 12ms/step - loss: 0.0048\n",
            "Epoch 9/50\n",
            "1400/1400 [==============================] - 19s 13ms/step - loss: 0.0047\n",
            "Epoch 10/50\n",
            "1400/1400 [==============================] - 25s 18ms/step - loss: 0.0045\n",
            "Epoch 11/50\n",
            "1400/1400 [==============================] - 18s 13ms/step - loss: 0.0044\n",
            "Epoch 12/50\n",
            "1400/1400 [==============================] - 16s 12ms/step - loss: 0.0043\n",
            "Epoch 13/50\n",
            "1400/1400 [==============================] - 16s 12ms/step - loss: 0.0042\n",
            "Epoch 14/50\n",
            "1400/1400 [==============================] - 16s 12ms/step - loss: 0.0042\n",
            "Epoch 15/50\n",
            "1400/1400 [==============================] - 16s 12ms/step - loss: 0.0040\n",
            "Epoch 16/50\n",
            "1400/1400 [==============================] - 17s 12ms/step - loss: 0.0041\n",
            "Epoch 17/50\n",
            "1400/1400 [==============================] - 16s 12ms/step - loss: 0.0040\n",
            "Epoch 18/50\n",
            "1400/1400 [==============================] - 27s 19ms/step - loss: 0.0041\n",
            "Epoch 19/50\n",
            "1400/1400 [==============================] - 17s 12ms/step - loss: 0.0040\n",
            "Epoch 20/50\n",
            "1400/1400 [==============================] - 17s 12ms/step - loss: 0.0039\n",
            "Epoch 21/50\n",
            "1400/1400 [==============================] - 17s 12ms/step - loss: 0.0039\n",
            "Epoch 22/50\n",
            "1400/1400 [==============================] - 17s 12ms/step - loss: 0.0037\n",
            "Epoch 23/50\n",
            "1400/1400 [==============================] - 17s 12ms/step - loss: 0.0039\n",
            "Epoch 24/50\n",
            "1400/1400 [==============================] - 20s 14ms/step - loss: 0.0038\n",
            "Epoch 25/50\n",
            "1400/1400 [==============================] - 18s 13ms/step - loss: 0.0038\n",
            "Epoch 26/50\n",
            "1400/1400 [==============================] - 18s 13ms/step - loss: 0.0036\n",
            "Epoch 27/50\n",
            "1400/1400 [==============================] - 17s 12ms/step - loss: 0.0037\n",
            "Epoch 28/50\n",
            "1400/1400 [==============================] - 17s 12ms/step - loss: 0.0038\n",
            "Epoch 29/50\n",
            "1400/1400 [==============================] - 17s 12ms/step - loss: 0.0036\n",
            "Epoch 30/50\n",
            "1400/1400 [==============================] - 16s 12ms/step - loss: 0.0036\n",
            "Epoch 31/50\n",
            "1400/1400 [==============================] - 16s 12ms/step - loss: 0.0036\n",
            "Epoch 32/50\n",
            "1400/1400 [==============================] - 17s 12ms/step - loss: 0.0035\n",
            "Epoch 33/50\n",
            "1400/1400 [==============================] - 17s 12ms/step - loss: 0.0035\n",
            "Epoch 34/50\n",
            "1400/1400 [==============================] - 17s 12ms/step - loss: 0.0035\n",
            "Epoch 35/50\n",
            "1400/1400 [==============================] - 17s 12ms/step - loss: 0.0036\n",
            "Epoch 36/50\n",
            "1400/1400 [==============================] - 18s 13ms/step - loss: 0.0036\n",
            "Epoch 37/50\n",
            "1400/1400 [==============================] - 18s 13ms/step - loss: 0.0034\n",
            "Epoch 38/50\n",
            "1400/1400 [==============================] - 18s 13ms/step - loss: 0.0034\n",
            "Epoch 39/50\n",
            "1400/1400 [==============================] - 17s 12ms/step - loss: 0.0034\n",
            "Epoch 40/50\n",
            "1400/1400 [==============================] - 17s 12ms/step - loss: 0.0034\n",
            "Epoch 41/50\n",
            "1400/1400 [==============================] - 17s 12ms/step - loss: 0.0034\n",
            "Epoch 42/50\n",
            "1400/1400 [==============================] - 17s 12ms/step - loss: 0.0034\n",
            "Epoch 43/50\n",
            "1400/1400 [==============================] - 17s 12ms/step - loss: 0.0034\n",
            "Epoch 44/50\n",
            "1400/1400 [==============================] - 17s 12ms/step - loss: 0.0033\n",
            "Epoch 45/50\n",
            "1400/1400 [==============================] - 17s 12ms/step - loss: 0.0033\n",
            "Epoch 46/50\n",
            "1400/1400 [==============================] - 17s 12ms/step - loss: 0.0033\n",
            "Epoch 47/50\n",
            "1400/1400 [==============================] - 17s 12ms/step - loss: 0.0033\n",
            "Epoch 48/50\n",
            "1400/1400 [==============================] - 17s 12ms/step - loss: 0.0032\n",
            "Epoch 49/50\n",
            "1400/1400 [==============================] - 16s 12ms/step - loss: 0.0033\n",
            "Epoch 50/50\n",
            "1400/1400 [==============================] - 17s 12ms/step - loss: 0.0032\n"
          ]
        },
        {
          "output_type": "execute_result",
          "data": {
            "text/plain": [
              "<keras.callbacks.History at 0x7f4d01880dd0>"
            ]
          },
          "metadata": {},
          "execution_count": 43
        }
      ]
    },
    {
      "cell_type": "code",
      "source": [
        "loss_per_epoch = model.history.history['loss']\n",
        "plt.plot(range(len(loss_per_epoch)), loss_per_epoch, c = \"r\", label = \"Loss\")\n",
        "plt.title('Loss per epoch', color = 'red', size = 15, pad = 10)\n",
        "plt.legend()"
      ],
      "metadata": {
        "colab": {
          "base_uri": "https://localhost:8080/",
          "height": 304
        },
        "id": "-nPAcibjgM0T",
        "outputId": "4b1647d4-7891-4d9d-f0eb-aef96c7660e2"
      },
      "execution_count": 44,
      "outputs": [
        {
          "output_type": "execute_result",
          "data": {
            "text/plain": [
              "<matplotlib.legend.Legend at 0x7f4cfeb9d5d0>"
            ]
          },
          "metadata": {},
          "execution_count": 44
        },
        {
          "output_type": "display_data",
          "data": {
            "text/plain": [
              "<Figure size 432x288 with 1 Axes>"
            ],
            "image/png": "[encoded data removed]"
          },
          "metadata": {
            "needs_background": "light"
          }
        }
      ]
    },
    {
      "cell_type": "code",
      "source": [
        "last_train_batch = scaled_train[-30:]"
      ],
      "metadata": {
        "id": "jeo2YB0Rheox"
      },
      "execution_count": 45,
      "outputs": []
    },
    {
      "cell_type": "code",
      "source": [
        "last_train_batch = last_train_batch.reshape((1, n_input, n_features))"
      ],
      "metadata": {
        "id": "VSJFXo8mg54M"
      },
      "execution_count": 46,
      "outputs": []
    },
    {
      "cell_type": "code",
      "source": [
        "model.predict(last_train_batch)"
      ],
      "metadata": {
        "colab": {
          "base_uri": "https://localhost:8080/"
        },
        "id": "IGauhoTNh0-Z",
        "outputId": "eb4ff527-3798-4fea-bc27-9a938abb50fd"
      },
      "execution_count": 47,
      "outputs": [
        {
          "output_type": "execute_result",
          "data": {
            "text/plain": [
              "array([[0.1328612]], dtype=float32)"
            ]
          },
          "metadata": {},
          "execution_count": 47
        }
      ]
    },
    {
      "cell_type": "code",
      "source": [
        "scaled_test[0]"
      ],
      "metadata": {
        "colab": {
          "base_uri": "https://localhost:8080/"
        },
        "id": "qY7zGX2Sh7P2",
        "outputId": "870a4bd5-d097-4790-f34d-d098e0979059"
      },
      "execution_count": 48,
      "outputs": [
        {
          "output_type": "execute_result",
          "data": {
            "text/plain": [
              "array([0.16528926])"
            ]
          },
          "metadata": {},
          "execution_count": 48
        }
      ]
    },
    {
      "cell_type": "code",
      "source": [
        "test_predictions = []\n",
        "first_eval_batch = scaled_train[-n_input:]\n",
        "current_batch = first_eval_batch.reshape((1, n_input, n_features))\n",
        "\n",
        "for i in range(len(test)):\n",
        "\n",
        "  #get the prediction value for the first batch\n",
        "  current_pred = model.predict(current_batch)[0]\n",
        "\n",
        "  # Append the prediction into the list\n",
        "  test_predictions.append(current_pred)\n",
        "\n",
        "  # Use the prediction to update the batch and remove the first value\n",
        "  current_batch = np.append(current_batch[:,1:,:], [[current_pred]], axis = 1)"
      ],
      "metadata": {
        "id": "9RWS8cwSiAGX"
      },
      "execution_count": 49,
      "outputs": []
    },
    {
      "cell_type": "code",
      "source": [
        "test_predictions"
      ],
      "metadata": {
        "colab": {
          "base_uri": "https://localhost:8080/"
        },
        "id": "A9kATeeRkEa7",
        "outputId": "2f8d2477-ac4b-400d-a47e-a6a192dd5f4e"
      },
      "execution_count": 50,
      "outputs": [
        {
          "output_type": "execute_result",
          "data": {
            "text/plain": [
              "[array([0.1328612], dtype=float32),\n",
              " array([0.1486592], dtype=float32),\n",
              " array([0.14830065], dtype=float32),\n",
              " array([0.08545218], dtype=float32),\n",
              " array([0.05350645], dtype=float32),\n",
              " array([0.14060317], dtype=float32),\n",
              " array([0.16529953], dtype=float32),\n",
              " array([0.1615423], dtype=float32),\n",
              " array([0.16488999], dtype=float32),\n",
              " array([0.15798403], dtype=float32),\n",
              " array([0.09069101], dtype=float32),\n",
              " array([0.0550134], dtype=float32),\n",
              " array([0.13140947], dtype=float32),\n",
              " array([0.17352429], dtype=float32),\n",
              " array([0.16606984], dtype=float32),\n",
              " array([0.17655028], dtype=float32),\n",
              " array([0.1708273], dtype=float32),\n",
              " array([0.09930233], dtype=float32),\n",
              " array([0.05155802], dtype=float32),\n",
              " array([0.1182306], dtype=float32),\n",
              " array([0.17988381], dtype=float32),\n",
              " array([0.16963163], dtype=float32),\n",
              " array([0.18242142], dtype=float32),\n",
              " array([0.17791986], dtype=float32),\n",
              " array([0.11012191], dtype=float32),\n",
              " array([0.05052087], dtype=float32),\n",
              " array([0.10114983], dtype=float32),\n",
              " array([0.18081316], dtype=float32),\n",
              " array([0.16478619], dtype=float32),\n",
              " array([0.1785809], dtype=float32)]"
            ]
          },
          "metadata": {},
          "execution_count": 50
        }
      ]
    },
    {
      "cell_type": "code",
      "source": [
        "true_predictions = scaler.inverse_transform(test_predictions)"
      ],
      "metadata": {
        "id": "yc02cpylkOpu"
      },
      "execution_count": 51,
      "outputs": []
    },
    {
      "cell_type": "code",
      "source": [
        "test[\"Predictions\"] = true_predictions"
      ],
      "metadata": {
        "colab": {
          "base_uri": "https://localhost:8080/"
        },
        "id": "olv8SJqHkhwL",
        "outputId": "6b7b6925-9533-413f-d014-9e8703da8f40"
      },
      "execution_count": 57,
      "outputs": [
        {
          "output_type": "stream",
          "name": "stderr",
          "text": [
            "/usr/local/lib/python3.7/dist-packages/ipykernel_launcher.py:1: SettingWithCopyWarning: \n",
            "A value is trying to be set on a copy of a slice from a DataFrame.\n",
            "Try using .loc[row_indexer,col_indexer] = value instead\n",
            "\n",
            "See the caveats in the documentation: https://pandas.pydata.org/pandas-docs/stable/user_guide/indexing.html#returning-a-view-versus-a-copy\n",
            "  \"\"\"Entry point for launching an IPython kernel.\n"
          ]
        }
      ]
    },
    {
      "cell_type": "code",
      "source": [
        "test.head()"
      ],
      "metadata": {
        "colab": {
          "base_uri": "https://localhost:8080/",
          "height": 238
        },
        "id": "b4J9lb8jBTu6",
        "outputId": "c0de8a8d-b005-44ad-e72e-54cb7ea4584d"
      },
      "execution_count": 58,
      "outputs": [
        {
          "output_type": "execute_result",
          "data": {
            "text/plain": [
              "            Incidents  Predictions\n",
              "DATE                              \n",
              "2021-12-01        102    82.381024\n",
              "2021-12-02        101    91.938816\n",
              "2021-12-03         87    91.721892\n",
              "2021-12-04         50    53.698567\n",
              "2021-12-05         85    34.371402"
            ],
            "text/html": [
              "\n",
              "  <div id=\"df-bd714045-9786-4e00-968d-7455e288e1fb\">\n",
              "    <div class=\"colab-df-container\">\n",
              "      <div>\n",
              "<style scoped>\n",
              "    .dataframe tbody tr th:only-of-type {\n",
              "        vertical-align: middle;\n",
              "    }\n",
              "\n",
              "    .dataframe tbody tr th {\n",
              "        vertical-align: top;\n",
              "    }\n",
              "\n",
              "    .dataframe thead th {\n",
              "        text-align: right;\n",
              "    }\n",
              "</style>\n",
              "<table border=\"1\" class=\"dataframe\">\n",
              "  <thead>\n",
              "    <tr style=\"text-align: right;\">\n",
              "      <th></th>\n",
              "      <th>Incidents</th>\n",
              "      <th>Predictions</th>\n",
              "    </tr>\n",
              "    <tr>\n",
              "      <th>DATE</th>\n",
              "      <th></th>\n",
              "      <th></th>\n",
              "    </tr>\n",
              "  </thead>\n",
              "  <tbody>\n",
              "    <tr>\n",
              "      <th>2021-12-01</th>\n",
              "      <td>102</td>\n",
              "      <td>82.381024</td>\n",
              "    </tr>\n",
              "    <tr>\n",
              "      <th>2021-12-02</th>\n",
              "      <td>101</td>\n",
              "      <td>91.938816</td>\n",
              "    </tr>\n",
              "    <tr>\n",
              "      <th>2021-12-03</th>\n",
              "      <td>87</td>\n",
              "      <td>91.721892</td>\n",
              "    </tr>\n",
              "    <tr>\n",
              "      <th>2021-12-04</th>\n",
              "      <td>50</td>\n",
              "      <td>53.698567</td>\n",
              "    </tr>\n",
              "    <tr>\n",
              "      <th>2021-12-05</th>\n",
              "      <td>85</td>\n",
              "      <td>34.371402</td>\n",
              "    </tr>\n",
              "  </tbody>\n",
              "</table>\n",
              "</div>\n",
              "      <button class=\"colab-df-convert\" onclick=\"convertToInteractive('df-bd714045-9786-4e00-968d-7455e288e1fb')\"\n",
              "              title=\"Convert this dataframe to an interactive table.\"\n",
              "              style=\"display:none;\">\n",
              "        \n",
              "  <svg xmlns=\"http://www.w3.org/2000/svg\" height=\"24px\"viewBox=\"0 0 24 24\"\n",
              "       width=\"24px\">\n",
              "    <path d=\"M0 0h24v24H0V0z\" fill=\"none\"/>\n",
              "    <path d=\"M18.56 5.44l.94 2.06.94-2.06 2.06-.94-2.06-.94-.94-2.06-.94 2.06-2.06.94zm-11 1L8.5 8.5l.94-2.06 2.06-.94-2.06-.94L8.5 2.5l-.94 2.06-2.06.94zm10 10l.94 2.06.94-2.06 2.06-.94-2.06-.94-.94-2.06-.94 2.06-2.06.94z\"/><path d=\"M17.41 7.96l-1.37-1.37c-.4-.4-.92-.59-1.43-.59-.52 0-1.04.2-1.43.59L10.3 9.45l-7.72 7.72c-.78.78-.78 2.05 0 2.83L4 21.41c.39.39.9.59 1.41.59.51 0 1.02-.2 1.41-.59l7.78-7.78 2.81-2.81c.8-.78.8-2.07 0-2.86zM5.41 20L4 18.59l7.72-7.72 1.47 1.35L5.41 20z\"/>\n",
              "  </svg>\n",
              "      </button>\n",
              "      \n",
              "  <style>\n",
              "    .colab-df-container {\n",
              "      display:flex;\n",
              "      flex-wrap:wrap;\n",
              "      gap: 12px;\n",
              "    }\n",
              "\n",
              "    .colab-df-convert {\n",
              "      background-color: #E8F0FE;\n",
              "      border: none;\n",
              "      border-radius: 50%;\n",
              "      cursor: pointer;\n",
              "      display: none;\n",
              "      fill: #1967D2;\n",
              "      height: 32px;\n",
              "      padding: 0 0 0 0;\n",
              "      width: 32px;\n",
              "    }\n",
              "\n",
              "    .colab-df-convert:hover {\n",
              "      background-color: #E2EBFA;\n",
              "      box-shadow: 0px 1px 2px rgba(60, 64, 67, 0.3), 0px 1px 3px 1px rgba(60, 64, 67, 0.15);\n",
              "      fill: #174EA6;\n",
              "    }\n",
              "\n",
              "    [theme=dark] .colab-df-convert {\n",
              "      background-color: #3B4455;\n",
              "      fill: #D2E3FC;\n",
              "    }\n",
              "\n",
              "    [theme=dark] .colab-df-convert:hover {\n",
              "      background-color: #434B5C;\n",
              "      box-shadow: 0px 1px 3px 1px rgba(0, 0, 0, 0.15);\n",
              "      filter: drop-shadow(0px 1px 2px rgba(0, 0, 0, 0.3));\n",
              "      fill: #FFFFFF;\n",
              "    }\n",
              "  </style>\n",
              "\n",
              "      <script>\n",
              "        const buttonEl =\n",
              "          document.querySelector('#df-bd714045-9786-4e00-968d-7455e288e1fb button.colab-df-convert');\n",
              "        buttonEl.style.display =\n",
              "          google.colab.kernel.accessAllowed ? 'block' : 'none';\n",
              "\n",
              "        async function convertToInteractive(key) {\n",
              "          const element = document.querySelector('#df-bd714045-9786-4e00-968d-7455e288e1fb');\n",
              "          const dataTable =\n",
              "            await google.colab.kernel.invokeFunction('convertToInteractive',\n",
              "                                                     [key], {});\n",
              "          if (!dataTable) return;\n",
              "\n",
              "          const docLinkHtml = 'Like what you see? Visit the ' +\n",
              "            '<a target=\"_blank\" href=https://colab.research.google.com/notebooks/data_table.ipynb>data table notebook</a>'\n",
              "            + ' to learn more about interactive tables.';\n",
              "          element.innerHTML = '';\n",
              "          dataTable['output_type'] = 'display_data';\n",
              "          await google.colab.output.renderOutput(dataTable, element);\n",
              "          const docLink = document.createElement('div');\n",
              "          docLink.innerHTML = docLinkHtml;\n",
              "          element.appendChild(docLink);\n",
              "        }\n",
              "      </script>\n",
              "    </div>\n",
              "  </div>\n",
              "  "
            ]
          },
          "metadata": {},
          "execution_count": 58
        }
      ]
    },
    {
      "cell_type": "code",
      "source": [
        "test.plot(figsize = (12,6),)\n",
        "plt.title('Incidents vs Predictions', color = 'red', size = 15, pad = 10);"
      ],
      "metadata": {
        "id": "F8-xNbG_kywR",
        "colab": {
          "base_uri": "https://localhost:8080/",
          "height": 445
        },
        "outputId": "5153a7b6-4a36-4ad9-a97d-513cc221649e"
      },
      "execution_count": 53,
      "outputs": [
        {
          "output_type": "display_data",
          "data": {
            "text/plain": [
              "<Figure size 864x432 with 1 Axes>"
            ],
            "image/png": "[encoded data removed]"
          },
          "metadata": {
            "needs_background": "light"
          }
        }
      ]
    },
    {
      "cell_type": "markdown",
      "source": [
        "**Calculate Root mean Square error LSTM model**"
      ],
      "metadata": {
        "id": "eg-QE5zwaJd8"
      }
    },
    {
      "cell_type": "code",
      "source": [
        "root_mean_square_error = sqrt(mean_squared_error(test['Incidents'], test[\"Predictions\"]))\n",
        "print(root_mean_square_error)"
      ],
      "metadata": {
        "id": "AF8rxf_clLWY",
        "colab": {
          "base_uri": "https://localhost:8080/"
        },
        "outputId": "7ff3a67e-03c9-4a12-96ad-f8454a81b3aa"
      },
      "execution_count": 54,
      "outputs": [
        {
          "output_type": "stream",
          "name": "stdout",
          "text": [
            "30.51684105030696\n"
          ]
        }
      ]
    },
    {
      "cell_type": "code",
      "source": [
        ""
      ],
      "metadata": {
        "id": "hNHmrctJZn-k"
      },
      "execution_count": 54,
      "outputs": []
    }
  ]
}